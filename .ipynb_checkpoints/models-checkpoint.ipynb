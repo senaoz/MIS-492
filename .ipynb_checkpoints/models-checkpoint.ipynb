{
 "cells": [
  {
   "cell_type": "code",
   "execution_count": 3,
   "id": "e2e772fd-3214-46c7-afd4-9887e93b7c5d",
   "metadata": {
    "ExecuteTime": {
     "end_time": "2024-05-19T14:50:18.324198Z",
     "start_time": "2024-05-19T14:50:06.488422Z"
    },
    "tags": []
   },
   "outputs": [],
   "source": [
    "import pandas as pd\n",
    "import numpy as np\n",
    "import matplotlib.pyplot as plt\n",
    "\n",
    "# get hco data\n",
    "hco_data_istanbul = pd.read_csv('./data/hco_data_istanbul.csv')\n",
    "\n",
    "# get sales data\n",
    "df = pd.read_csv('./data/istanbul_data.csv')\n",
    "\n",
    "df['MainDistID'] = df['MainDistID'].astype(str)\n",
    "df['DistID'] = df['DistID'].astype(str)\n",
    "df['HcoID'] = df['HcoID'].astype(str)\n",
    "df['SkuID'] = df['SkuID'].astype(str)\n",
    "df['SalesRegionID_x'] = df['SalesRegionID_x'].astype(str)\n",
    "df['SalesRegionID_y'] = df['SalesRegionID_y'].astype(str)\n",
    "\n",
    "df['TotalQuantity'] = df['TotalQuantity'].astype(int)\n",
    "df['PaidQty'] = df['PaidQty'].astype(int)\n",
    "df['FGQty'] = df['FGQty'].astype(int)\n",
    "df['IsReturn'] = df['IsReturn'].astype(int)"
   ]
  },
  {
   "cell_type": "code",
   "execution_count": 4,
   "id": "586d8f72-21f5-4d38-b068-5bdee707e112",
   "metadata": {
    "ExecuteTime": {
     "end_time": "2024-05-19T14:50:21.166248Z",
     "start_time": "2024-05-19T14:50:18.325889Z"
    },
    "tags": []
   },
   "outputs": [],
   "source": [
    "# if IsReturn == 1, then make TotalQuantity negative\n",
    "df['TotalQuantity'] = np.where(df['IsReturn'] == 1, -df['TotalQuantity'], df['TotalQuantity'])\n",
    "\n",
    "# drop Year_Month column\n",
    "df = df.drop(columns=['Year_Month'])\n",
    "\n",
    "# Date column to datetime format and extract year and month and day\n",
    "df['Date'] = pd.to_datetime(df['Date'])\n",
    "df['Year'] = df['Date'].dt.year\n",
    "df['Month'] = df['Date'].dt.month\n",
    "df['Day'] = df['Date'].dt.day"
   ]
  },
  {
   "cell_type": "markdown",
   "id": "c4f9f7e1-dcdc-474c-b27b-d8bed57c9716",
   "metadata": {
    "tags": []
   },
   "source": [
    "### Seçilenler\n",
    "\n",
    "- I. Segment: 568 (challenge olan), 578, 1050\n",
    "- II. Segment: 319 (en stabil olan), 509/615, 1018 (düşük satışlı olan)"
   ]
  },
  {
   "cell_type": "code",
   "execution_count": 5,
   "id": "4bb60cad-7adb-4355-868d-17f06fabae8c",
   "metadata": {
    "ExecuteTime": {
     "end_time": "2024-05-19T14:50:21.168083Z",
     "start_time": "2024-05-19T14:50:21.165802Z"
    },
    "tags": []
   },
   "outputs": [],
   "source": [
    "segment_1_sku_ids = ['568', '578', '1050']\n",
    "segment_2_sku_ids = ['319', '509', '615', '1018']"
   ]
  },
  {
   "cell_type": "code",
   "execution_count": 6,
   "id": "62cb9a7b-5591-4776-8d00-7db86046a4fb",
   "metadata": {
    "ExecuteTime": {
     "end_time": "2024-05-19T14:50:23.002998Z",
     "start_time": "2024-05-19T14:50:21.531596Z"
    },
    "tags": []
   },
   "outputs": [
    {
     "data": {
      "text/html": [
       "<div>\n",
       "<style scoped>\n",
       "    .dataframe tbody tr th:only-of-type {\n",
       "        vertical-align: middle;\n",
       "    }\n",
       "\n",
       "    .dataframe tbody tr th {\n",
       "        vertical-align: top;\n",
       "    }\n",
       "\n",
       "    .dataframe thead th {\n",
       "        text-align: right;\n",
       "    }\n",
       "</style>\n",
       "<table border=\"1\" class=\"dataframe\">\n",
       "  <thead>\n",
       "    <tr style=\"text-align: right;\">\n",
       "      <th></th>\n",
       "      <th>MainDistID</th>\n",
       "      <th>DistID</th>\n",
       "      <th>HcoID</th>\n",
       "      <th>SalesRegionID_x</th>\n",
       "      <th>BrandID</th>\n",
       "      <th>SkuID</th>\n",
       "      <th>IsReturn</th>\n",
       "      <th>PaidQty</th>\n",
       "      <th>FGQty</th>\n",
       "      <th>IsMrsOrder</th>\n",
       "      <th>HcoType</th>\n",
       "      <th>District</th>\n",
       "      <th>SalesRegionID_y</th>\n",
       "      <th>Status</th>\n",
       "      <th>TotalQuantity</th>\n",
       "      <th>Year</th>\n",
       "      <th>Month</th>\n",
       "      <th>Day</th>\n",
       "    </tr>\n",
       "  </thead>\n",
       "  <tbody>\n",
       "    <tr>\n",
       "      <th>0</th>\n",
       "      <td>2879266</td>\n",
       "      <td>2878720</td>\n",
       "      <td>2885754</td>\n",
       "      <td>1000000</td>\n",
       "      <td>72</td>\n",
       "      <td>1050</td>\n",
       "      <td>0</td>\n",
       "      <td>10</td>\n",
       "      <td>0</td>\n",
       "      <td>0</td>\n",
       "      <td>P</td>\n",
       "      <td>SANCAKTEPE</td>\n",
       "      <td>630101</td>\n",
       "      <td>Active</td>\n",
       "      <td>10</td>\n",
       "      <td>2019</td>\n",
       "      <td>1</td>\n",
       "      <td>16</td>\n",
       "    </tr>\n",
       "    <tr>\n",
       "      <th>7</th>\n",
       "      <td>2879249</td>\n",
       "      <td>2878795</td>\n",
       "      <td>2885754</td>\n",
       "      <td>1000000</td>\n",
       "      <td>15</td>\n",
       "      <td>319</td>\n",
       "      <td>0</td>\n",
       "      <td>2</td>\n",
       "      <td>0</td>\n",
       "      <td>0</td>\n",
       "      <td>P</td>\n",
       "      <td>SANCAKTEPE</td>\n",
       "      <td>630101</td>\n",
       "      <td>Active</td>\n",
       "      <td>2</td>\n",
       "      <td>2019</td>\n",
       "      <td>1</td>\n",
       "      <td>31</td>\n",
       "    </tr>\n",
       "    <tr>\n",
       "      <th>12</th>\n",
       "      <td>2879249</td>\n",
       "      <td>2878795</td>\n",
       "      <td>2885754</td>\n",
       "      <td>1000000</td>\n",
       "      <td>72</td>\n",
       "      <td>1050</td>\n",
       "      <td>0</td>\n",
       "      <td>2</td>\n",
       "      <td>0</td>\n",
       "      <td>0</td>\n",
       "      <td>P</td>\n",
       "      <td>SANCAKTEPE</td>\n",
       "      <td>630101</td>\n",
       "      <td>Active</td>\n",
       "      <td>2</td>\n",
       "      <td>2019</td>\n",
       "      <td>2</td>\n",
       "      <td>27</td>\n",
       "    </tr>\n",
       "    <tr>\n",
       "      <th>13</th>\n",
       "      <td>2879249</td>\n",
       "      <td>2878795</td>\n",
       "      <td>2885754</td>\n",
       "      <td>1000000</td>\n",
       "      <td>29</td>\n",
       "      <td>568</td>\n",
       "      <td>0</td>\n",
       "      <td>20</td>\n",
       "      <td>0</td>\n",
       "      <td>0</td>\n",
       "      <td>P</td>\n",
       "      <td>SANCAKTEPE</td>\n",
       "      <td>630101</td>\n",
       "      <td>Active</td>\n",
       "      <td>20</td>\n",
       "      <td>2019</td>\n",
       "      <td>2</td>\n",
       "      <td>11</td>\n",
       "    </tr>\n",
       "    <tr>\n",
       "      <th>15</th>\n",
       "      <td>2879249</td>\n",
       "      <td>2878795</td>\n",
       "      <td>2885754</td>\n",
       "      <td>1000000</td>\n",
       "      <td>72</td>\n",
       "      <td>1050</td>\n",
       "      <td>0</td>\n",
       "      <td>5</td>\n",
       "      <td>0</td>\n",
       "      <td>0</td>\n",
       "      <td>P</td>\n",
       "      <td>SANCAKTEPE</td>\n",
       "      <td>630101</td>\n",
       "      <td>Active</td>\n",
       "      <td>5</td>\n",
       "      <td>2019</td>\n",
       "      <td>3</td>\n",
       "      <td>11</td>\n",
       "    </tr>\n",
       "  </tbody>\n",
       "</table>\n",
       "</div>"
      ],
      "text/plain": [
       "   MainDistID   DistID    HcoID SalesRegionID_x  BrandID SkuID  IsReturn  \\\n",
       "0     2879266  2878720  2885754         1000000       72  1050         0   \n",
       "7     2879249  2878795  2885754         1000000       15   319         0   \n",
       "12    2879249  2878795  2885754         1000000       72  1050         0   \n",
       "13    2879249  2878795  2885754         1000000       29   568         0   \n",
       "15    2879249  2878795  2885754         1000000       72  1050         0   \n",
       "\n",
       "    PaidQty  FGQty  IsMrsOrder HcoType    District SalesRegionID_y  Status  \\\n",
       "0        10      0           0       P  SANCAKTEPE          630101  Active   \n",
       "7         2      0           0       P  SANCAKTEPE          630101  Active   \n",
       "12        2      0           0       P  SANCAKTEPE          630101  Active   \n",
       "13       20      0           0       P  SANCAKTEPE          630101  Active   \n",
       "15        5      0           0       P  SANCAKTEPE          630101  Active   \n",
       "\n",
       "    TotalQuantity  Year  Month  Day  \n",
       "0              10  2019      1   16  \n",
       "7               2  2019      1   31  \n",
       "12              2  2019      2   27  \n",
       "13             20  2019      2   11  \n",
       "15              5  2019      3   11  "
      ]
     },
     "execution_count": 6,
     "metadata": {},
     "output_type": "execute_result"
    }
   ],
   "source": [
    "# Create a new dataframe for the selected SKUs\n",
    "selected_skus = segment_1_sku_ids + segment_2_sku_ids\n",
    "selected_skus_df = df[df['SkuID'].isin(selected_skus)]\n",
    "\n",
    "drop_columns = ['Lat', 'Lon', 'Date', \"City\"]\n",
    "selected_skus_df = selected_skus_df.drop(columns=drop_columns)\n",
    "\n",
    "selected_skus_df.head()"
   ]
  },
  {
   "cell_type": "code",
   "execution_count": 7,
   "id": "7dbf6b45ee9b80fe",
   "metadata": {
    "ExecuteTime": {
     "end_time": "2024-05-19T14:50:23.305935Z",
     "start_time": "2024-05-19T14:50:22.989037Z"
    },
    "tags": []
   },
   "outputs": [
    {
     "name": "stdout",
     "output_type": "stream",
     "text": [
      "<class 'pandas.core.frame.DataFrame'>\n",
      "Index: 882540 entries, 0 to 4201055\n",
      "Data columns (total 18 columns):\n",
      " #   Column           Non-Null Count   Dtype \n",
      "---  ------           --------------   ----- \n",
      " 0   MainDistID       882540 non-null  object\n",
      " 1   DistID           882540 non-null  object\n",
      " 2   HcoID            882540 non-null  object\n",
      " 3   SalesRegionID_x  882540 non-null  object\n",
      " 4   BrandID          882540 non-null  int64 \n",
      " 5   SkuID            882540 non-null  object\n",
      " 6   IsReturn         882540 non-null  int64 \n",
      " 7   PaidQty          882540 non-null  int64 \n",
      " 8   FGQty            882540 non-null  int64 \n",
      " 9   IsMrsOrder       882540 non-null  int64 \n",
      " 10  HcoType          882540 non-null  object\n",
      " 11  District         877035 non-null  object\n",
      " 12  SalesRegionID_y  882540 non-null  object\n",
      " 13  Status           882540 non-null  object\n",
      " 14  TotalQuantity    882540 non-null  int64 \n",
      " 15  Year             882540 non-null  int32 \n",
      " 16  Month            882540 non-null  int32 \n",
      " 17  Day              882540 non-null  int32 \n",
      "dtypes: int32(3), int64(6), object(9)\n",
      "memory usage: 117.8+ MB\n"
     ]
    }
   ],
   "source": [
    "selected_skus_df.info()"
   ]
  },
  {
   "cell_type": "code",
   "execution_count": 8,
   "id": "fb6f3483-6d70-49b3-9b34-d9306e5939be",
   "metadata": {
    "ExecuteTime": {
     "end_time": "2024-05-19T14:50:23.602771Z",
     "start_time": "2024-05-19T14:50:23.304868Z"
    },
    "tags": []
   },
   "outputs": [
    {
     "data": {
      "image/png": "[encoded data removed]",
      "text/plain": [
       "<Figure size 1000x600 with 1 Axes>"
      ]
     },
     "metadata": {},
     "output_type": "display_data"
    }
   ],
   "source": [
    "# Create a pivot table for the selected SKUs\n",
    "selected_skus_pivot = selected_skus_df.pivot_table(index=['Year', 'Month', 'Day'], columns='SkuID', values='TotalQuantity', aggfunc='sum', fill_value=0)\n",
    "\n",
    "# Plot the sales trends for the selected SKUs\n",
    "selected_skus_pivot.plot(figsize=(10, 6))\n",
    "plt.show()"
   ]
  },
  {
   "cell_type": "code",
   "execution_count": 9,
   "id": "f2bd6e37d23bf81e",
   "metadata": {
    "ExecuteTime": {
     "end_time": "2024-05-19T14:50:25.427494Z",
     "start_time": "2024-05-19T14:50:23.603706Z"
    }
   },
   "outputs": [
    {
     "name": "stdout",
     "output_type": "stream",
     "text": [
      "<class 'pandas.core.frame.DataFrame'>\n",
      "DatetimeIndex: 877035 entries, 2019-01-16 to 2021-12-28\n",
      "Data columns (total 15 columns):\n",
      " #   Column           Non-Null Count   Dtype   \n",
      "---  ------           --------------   -----   \n",
      " 0   MainDistID       877035 non-null  object  \n",
      " 1   DistID           877035 non-null  object  \n",
      " 2   HcoID            877035 non-null  object  \n",
      " 3   SalesRegionID_x  877035 non-null  category\n",
      " 4   BrandID          877035 non-null  int64   \n",
      " 5   SkuID            877035 non-null  object  \n",
      " 6   IsReturn         877035 non-null  int64   \n",
      " 7   PaidQty          877035 non-null  int64   \n",
      " 8   FGQty            877035 non-null  int64   \n",
      " 9   IsMrsOrder       877035 non-null  int64   \n",
      " 10  HcoType          877035 non-null  category\n",
      " 11  District         877035 non-null  category\n",
      " 12  SalesRegionID_y  877035 non-null  category\n",
      " 13  Status           877035 non-null  category\n",
      " 14  TotalQuantity    877035 non-null  int64   \n",
      "dtypes: category(5), int64(6), object(4)\n",
      "memory usage: 77.8+ MB\n"
     ]
    }
   ],
   "source": [
    "# DATA PREPROCESSING\n",
    "df = selected_skus_df.copy()\n",
    "df.dropna(inplace=True)\n",
    "\n",
    "# Convert date columns to datetime format\n",
    "df['Date'] = pd.to_datetime(df[['Year', 'Month', 'Day']])\n",
    "\n",
    "# Set 'Date' column as the index\n",
    "df.set_index('Date', inplace=True)\n",
    "\n",
    "# Drop unnecessary columns for modeling\n",
    "df.drop(['Year', 'Month', 'Day'], axis=1, inplace=True)\n",
    "\n",
    "df['SalesRegionID_x'] = df['SalesRegionID_x'].astype('category')\n",
    "df['SalesRegionID_y'] = df['SalesRegionID_y'].astype('category')\n",
    "df['HcoType'] = df['HcoType'].astype('category')\n",
    "df['District'] = df['District'].astype('category')\n",
    "df['Status'] = df['Status'].astype('category')\n",
    "\n",
    "df.info()"
   ]
  },
  {
   "cell_type": "code",
   "execution_count": 10,
   "id": "fbe5a1f5ba418cd5",
   "metadata": {
    "ExecuteTime": {
     "end_time": "2024-05-19T14:50:27.042306Z",
     "start_time": "2024-05-19T14:50:25.411022Z"
    }
   },
   "outputs": [],
   "source": [
    "import pandas as pd\n",
    "from sklearn.preprocessing import OneHotEncoder\n",
    "\n",
    "# Assume df is your DataFrame\n",
    "categorical_cols = ['SalesRegionID_x', 'HcoType', 'District', 'SalesRegionID_y', 'Status']\n",
    "df_encoded = pd.get_dummies(df, columns=categorical_cols, drop_first=True)"
   ]
  },
  {
   "cell_type": "code",
   "execution_count": 11,
   "id": "957d37922765dfa6",
   "metadata": {
    "ExecuteTime": {
     "end_time": "2024-05-19T14:50:27.126811Z",
     "start_time": "2024-05-19T14:50:27.051682Z"
    },
    "collapsed": false,
    "jupyter": {
     "outputs_hidden": false
    }
   },
   "outputs": [],
   "source": [
    "from sklearn.preprocessing import StandardScaler\n",
    "\n",
    "numerical_cols = ['BrandID', 'IsReturn', 'PaidQty', 'FGQty', 'IsMrsOrder']\n",
    "scaler = StandardScaler()\n",
    "df_encoded[numerical_cols] = scaler.fit_transform(df_encoded[numerical_cols])"
   ]
  },
  {
   "cell_type": "code",
   "execution_count": 12,
   "id": "bd64bfc76dbcc8a7",
   "metadata": {
    "ExecuteTime": {
     "end_time": "2024-05-19T14:50:27.888527Z",
     "start_time": "2024-05-19T14:50:27.116298Z"
    },
    "collapsed": false,
    "jupyter": {
     "outputs_hidden": false
    }
   },
   "outputs": [],
   "source": [
    "from sklearn.model_selection import train_test_split\n",
    "\n",
    "X = df_encoded.drop(columns=['TotalQuantity'])\n",
    "y = df_encoded['TotalQuantity']\n",
    "X_train, X_test, y_train, y_test = train_test_split(X, y, test_size=0.2, random_state=42)"
   ]
  },
  {
   "cell_type": "code",
   "execution_count": 13,
   "id": "6f1a2f0cd7ff9e0",
   "metadata": {
    "ExecuteTime": {
     "end_time": "2024-05-19T14:52:58.088826Z",
     "start_time": "2024-05-19T14:50:27.889628Z"
    },
    "collapsed": false,
    "jupyter": {
     "outputs_hidden": false
    }
   },
   "outputs": [
    {
     "name": "stdout",
     "output_type": "stream",
     "text": [
      "RMSE: 3.0105622145837785\n",
      "R2 Score: 0.9550308001554755\n"
     ]
    }
   ],
   "source": [
    "from sklearn.linear_model import LinearRegression\n",
    "from sklearn.metrics import mean_squared_error, r2_score\n",
    "\n",
    "lr_model = LinearRegression()\n",
    "lr_model.fit(X_train, y_train)\n",
    "lr_model_y_pred = lr_model.predict(X_test)\n",
    "\n",
    "lr_model_rmse = mean_squared_error(y_test, lr_model_y_pred, squared=False)\n",
    "lr_model_r2_score = r2_score(y_test, lr_model_y_pred)\n",
    "\n",
    "print(f\"RMSE: {lr_model_rmse}\")\n",
    "print(f\"R2 Score: {lr_model_r2_score}\")"
   ]
  },
  {
   "cell_type": "code",
   "execution_count": 2,
   "id": "223e2f98b16320d2",
   "metadata": {
    "collapsed": false,
    "is_executing": true,
    "jupyter": {
     "outputs_hidden": false
    }
   },
   "outputs": [
    {
     "ename": "NameError",
     "evalue": "name 'X_train' is not defined",
     "output_type": "error",
     "traceback": [
      "\u001b[0;31m---------------------------------------------------------------------------\u001b[0m",
      "\u001b[0;31mNameError\u001b[0m                                 Traceback (most recent call last)",
      "Cell \u001b[0;32mIn[2], line 4\u001b[0m\n\u001b[1;32m      1\u001b[0m \u001b[38;5;28;01mfrom\u001b[39;00m \u001b[38;5;21;01msklearn\u001b[39;00m\u001b[38;5;21;01m.\u001b[39;00m\u001b[38;5;21;01mensemble\u001b[39;00m \u001b[38;5;28;01mimport\u001b[39;00m RandomForestRegressor\n\u001b[1;32m      3\u001b[0m rf_model \u001b[38;5;241m=\u001b[39m RandomForestRegressor(n_estimators\u001b[38;5;241m=\u001b[39m\u001b[38;5;241m100\u001b[39m, random_state\u001b[38;5;241m=\u001b[39m\u001b[38;5;241m42\u001b[39m)\n\u001b[0;32m----> 4\u001b[0m rf_model\u001b[38;5;241m.\u001b[39mfit(X_train, y_train)\n\u001b[1;32m      5\u001b[0m rf_y_pred \u001b[38;5;241m=\u001b[39m rf_model\u001b[38;5;241m.\u001b[39mpredict(X_test)\n\u001b[1;32m      7\u001b[0m rf_rmse \u001b[38;5;241m=\u001b[39m mean_squared_error(y_test, rf_y_pred, squared\u001b[38;5;241m=\u001b[39m\u001b[38;5;28;01mFalse\u001b[39;00m)\n",
      "\u001b[0;31mNameError\u001b[0m: name 'X_train' is not defined"
     ]
    }
   ],
   "source": [
    "from sklearn.ensemble import RandomForestRegressor\n",
    "\n",
    "rf_model = RandomForestRegressor(n_estimators=100, random_state=42)\n",
    "rf_model.fit(X_train, y_train)\n",
    "rf_y_pred = rf_model.predict(X_test)\n",
    "\n",
    "rf_rmse = mean_squared_error(y_test, rf_y_pred, squared=False)\n",
    "rf_r2_score = r2_score(y_test, rf_y_pred)\n",
    "\n",
    "print(f\"RMSE: {rf_rmse}\")\n",
    "print(f\"R2 Score: {rf_r2_score}\")"
   ]
  },
  {
   "cell_type": "code",
   "execution_count": null,
   "id": "4170f4d631dce581",
   "metadata": {
    "ExecuteTime": {
     "start_time": "2024-05-19T15:01:54.255170Z"
    },
    "collapsed": false,
    "is_executing": true,
    "jupyter": {
     "outputs_hidden": false
    }
   },
   "outputs": [],
   "source": [
    "from sklearn.ensemble import GradientBoostingRegressor\n",
    "\n",
    "gb_model = GradientBoostingRegressor(n_estimators=100, learning_rate=0.1, random_state=42)\n",
    "gb_model.fit(X_train, y_train)\n",
    "gb_y_pred = gb_model.predict(X_test)\n",
    "\n",
    "gb_rmse = mean_squared_error(y_test, rf_y_pred, squared=False)\n",
    "gb_r2_score = r2_score(y_test, gb_y_pred)\n",
    "\n",
    "print(f\"RMSE: {gb_rmse}\")\n",
    "print(f\"R2 Score: {gb_r2_score}\")"
   ]
  },
  {
   "cell_type": "code",
   "execution_count": null,
   "id": "2efad32978a2ff47",
   "metadata": {
    "collapsed": false,
    "is_executing": true,
    "jupyter": {
     "outputs_hidden": false
    }
   },
   "outputs": [],
   "source": [
    "# Create a DataFrame with the feature importances\n",
    "feature_importances = pd.DataFrame(gb_model.feature_importances_, index=X_train.columns, columns=['Importance'])\n",
    "\n",
    "# Sort the values in descending order\n",
    "feature_importances = feature_importances.sort_values(by='Importance', ascending=False)\n",
    "\n",
    "# Plot the feature importances\n",
    "feature_importances.plot(kind='bar', figsize=(12, 6))\n",
    "plt.show()"
   ]
  },
  {
   "cell_type": "code",
   "execution_count": null,
   "id": "6c3962f4f956af2b",
   "metadata": {
    "collapsed": false,
    "is_executing": true,
    "jupyter": {
     "outputs_hidden": false
    }
   },
   "outputs": [],
   "source": [
    "# Compare the model's performance on the training and test sets\n",
    "\n",
    "# Linear Regression\n",
    "lr_model_train_score = lr_model.score(X_train, y_train)\n",
    "\n",
    "# Random Forest\n",
    "rf_model_train_score = rf_model.score(X_train, y_train)\n",
    "\n",
    "# Gradient Boosting\n",
    "gb_model_train_score = gb_model.score(X_train, y_train)\n",
    "\n",
    "print(f\"Linear Regression Train Score: {lr_model_train_score}\")\n",
    "print(f\"Random Forest Train Score: {rf_model_train_score}\")\n",
    "print(f\"Gradient Boosting Train Score: {gb_model_train_score}\")"
   ]
  },
  {
   "cell_type": "code",
   "execution_count": 14,
   "id": "49583af1f4a2d46a",
   "metadata": {
    "ExecuteTime": {
     "start_time": "2024-05-19T15:35:43.401298Z"
    },
    "collapsed": false,
    "is_executing": true,
    "jupyter": {
     "outputs_hidden": false
    },
    "tags": []
   },
   "outputs": [],
   "source": [
    "from prophet import Prophet\n",
    "\n",
    "model = Prophet()"
   ]
  },
  {
   "cell_type": "code",
   "execution_count": 15,
   "id": "9aa37f369962dd43",
   "metadata": {
    "ExecuteTime": {
     "start_time": "2024-05-19T15:35:43.623665Z"
    },
    "collapsed": false,
    "is_executing": true,
    "jupyter": {
     "outputs_hidden": false
    },
    "tags": []
   },
   "outputs": [],
   "source": [
    "# Assuming selected_skus_df is your DataFrame\n",
    "prophet_data = selected_skus_df.copy()\n",
    "\n",
    "# Create the date column\n",
    "prophet_data['ds'] = pd.to_datetime(prophet_data[['Year', 'Month', 'Day']])\n",
    "\n",
    "# Rename the target column to 'y'\n",
    "prophet_data = prophet_data.rename(columns={'TotalQuantity': 'y'})\n",
    "\n",
    "# One-hot encode the categorical variables\n",
    "categories = ['SkuID', 'MainDistID', 'DistID', 'HcoID', 'HcoType', 'District', 'Status']\n",
    "prophet_data = pd.get_dummies(prophet_data, columns=categories)\n",
    "\n",
    "# Select the relevant columns for Prophet\n",
    "prophet_data = prophet_data[['ds', 'y'] + [col for col in prophet_data.columns if col.startswith(tuple(categories))]]"
   ]
  },
  {
   "cell_type": "code",
   "execution_count": null,
   "id": "50fadd39ce089dda",
   "metadata": {
    "ExecuteTime": {
     "start_time": "2024-05-19T15:36:07.826197Z"
    },
    "collapsed": false,
    "is_executing": true,
    "jupyter": {
     "outputs_hidden": false
    },
    "tags": []
   },
   "outputs": [],
   "source": [
    "# Add regressors\n",
    "for col in prophet_data.columns:\n",
    "    if col not in ['ds', 'y']:\n",
    "        model.add_regressor(col)\n",
    "\n",
    "# Fit the model\n",
    "model.fit(prophet_data)"
   ]
  },
  {
   "cell_type": "code",
   "execution_count": null,
   "id": "b653427a5c1bf64e",
   "metadata": {
    "collapsed": false,
    "is_executing": true,
    "jupyter": {
     "outputs_hidden": false
    },
    "tags": []
   },
   "outputs": [],
   "source": [
    "# Create a DataFrame with future dates\n",
    "future = model.make_future_dataframe(periods=90)  # Forecast for 90 days into the future\n",
    "\n",
    "# Add the categorical columns to the future DataFrame\n",
    "future = pd.concat([future, prophet_data.drop(columns=['ds', 'y']).iloc[:future.shape[0]].reset_index(drop=True)], axis=1)\n",
    "\n",
    "# Make predictions\n",
    "forecast = model.predict(future)"
   ]
  },
  {
   "cell_type": "code",
   "execution_count": null,
   "id": "22b33404ceed4b99",
   "metadata": {
    "collapsed": false,
    "is_executing": true,
    "jupyter": {
     "outputs_hidden": false
    },
    "tags": []
   },
   "outputs": [],
   "source": [
    "# Plot the forecast\n",
    "fig1 = model.plot(forecast)\n",
    "fig1.show()\n",
    "\n",
    "# Plot the forecast components\n",
    "fig2 = model.plot_components(forecast)\n",
    "fig2.show()"
   ]
  },
  {
   "cell_type": "code",
   "execution_count": null,
   "id": "9f0e138687cd7aff",
   "metadata": {
    "collapsed": false,
    "is_executing": true,
    "jupyter": {
     "outputs_hidden": false
    }
   },
   "outputs": [],
   "source": [
    "# create table for the forecasts\n",
    "forecast_table = forecast[['ds', 'yhat', 'yhat_lower', 'yhat_upper']]\n",
    "\n",
    "# merge the forecast table with the original data\n",
    "forecast_table = forecast_table.merge(prophet_data, how='left', left_on='ds', right_on='ds')\n",
    "\n",
    "# calculate the residuals\n",
    "forecast_table['residuals'] = forecast_table['y'] - forecast_table['yhat']\n",
    "\n",
    "# calculate the absolute residuals\n",
    "forecast_table['abs_residuals'] = abs(forecast_table['residuals'])\n",
    "\n",
    "# calculate the percentage error\n",
    "forecast_table['percentage_error'] = forecast_table['abs_residuals'] / forecast_table['y'] * 100\n",
    "\n",
    "forecast_table.head()"
   ]
  },
  {
   "cell_type": "code",
   "execution_count": null,
   "id": "1687a996fef0c607",
   "metadata": {
    "collapsed": false,
    "jupyter": {
     "outputs_hidden": false
    }
   },
   "outputs": [],
   "source": []
  }
 ],
 "metadata": {
  "kernelspec": {
   "display_name": "Python 3 (ipykernel)",
   "language": "python",
   "name": "python3"
  },
  "language_info": {
   "codemirror_mode": {
    "name": "ipython",
    "version": 3
   },
   "file_extension": ".py",
   "mimetype": "text/x-python",
   "name": "python",
   "nbconvert_exporter": "python",
   "pygments_lexer": "ipython3",
   "version": "3.11.5"
  },
  "toc": {
   "base_numbering": 1,
   "nav_menu": {},
   "number_sections": true,
   "sideBar": true,
   "skip_h1_title": false,
   "title_cell": "Table of Contents",
   "title_sidebar": "Contents",
   "toc_cell": false,
   "toc_position": {},
   "toc_section_display": true,
   "toc_window_display": false
  }
 },
 "nbformat": 4,
 "nbformat_minor": 5
}
