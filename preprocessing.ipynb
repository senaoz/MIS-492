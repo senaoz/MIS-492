{
 "cells": [
  {
   "cell_type": "code",
   "id": "initial_id",
   "metadata": {
    "collapsed": true,
    "jupyter": {
     "outputs_hidden": true
    },
    "ExecuteTime": {
     "end_time": "2024-06-02T08:34:04.942387Z",
     "start_time": "2024-06-02T08:33:58.967405Z"
    }
   },
   "source": [
    "import pandas as pd\n",
    "import numpy as np\n",
    "import matplotlib.pyplot as plt\n",
    "\n",
    "# get hco data\n",
    "hco_data_istanbul = pd.read_csv('./data/hco_data_istanbul.csv')\n",
    "hco_data_istanbul.info()\n",
    "\n",
    "\n",
    "# get sales data\n",
    "df = pd.read_csv('./data/istanbul_data.csv')\n",
    "drop_columns = ['Year_Month', 'Lat', 'Lon', 'City']\n",
    "df = df.drop(columns=drop_columns)\n",
    "\n",
    "df.info()"
   ],
   "outputs": [
    {
     "name": "stdout",
     "output_type": "stream",
     "text": [
      "<class 'pandas.core.frame.DataFrame'>\n",
      "RangeIndex: 17653 entries, 0 to 17652\n",
      "Data columns (total 8 columns):\n",
      " #   Column         Non-Null Count  Dtype \n",
      "---  ------         --------------  ----- \n",
      " 0   HcoID          17653 non-null  int64 \n",
      " 1   HcoType        17653 non-null  object\n",
      " 2   City           17653 non-null  object\n",
      " 3   District       16410 non-null  object\n",
      " 4   SalesRegionID  17653 non-null  int64 \n",
      " 5   Lat            4576 non-null   object\n",
      " 6   Lon            4576 non-null   object\n",
      " 7   Status         17653 non-null  object\n",
      "dtypes: int64(2), object(6)\n",
      "memory usage: 1.1+ MB\n",
      "<class 'pandas.core.frame.DataFrame'>\n",
      "RangeIndex: 4201059 entries, 0 to 4201058\n",
      "Data columns (total 16 columns):\n",
      " #   Column           Dtype  \n",
      "---  ------           -----  \n",
      " 0   MainDistID       int64  \n",
      " 1   DistID           int64  \n",
      " 2   Date             object \n",
      " 3   HcoID            int64  \n",
      " 4   SalesRegionID_x  int64  \n",
      " 5   BrandID          int64  \n",
      " 6   SkuID            int64  \n",
      " 7   IsReturn         int64  \n",
      " 8   PaidQty          float64\n",
      " 9   FGQty            float64\n",
      " 10  IsMrsOrder       int64  \n",
      " 11  HcoType          object \n",
      " 12  District         object \n",
      " 13  SalesRegionID_y  int64  \n",
      " 14  Status           object \n",
      " 15  TotalQuantity    int64  \n",
      "dtypes: float64(2), int64(10), object(4)\n",
      "memory usage: 512.8+ MB\n"
     ]
    }
   ],
   "execution_count": 6
  },
  {
   "metadata": {},
   "cell_type": "markdown",
   "source": "# Data Preprocessing",
   "id": "22cba065634bd2e0"
  },
  {
   "metadata": {
    "ExecuteTime": {
     "end_time": "2024-06-02T08:34:04.962634Z",
     "start_time": "2024-06-02T08:34:04.943919Z"
    }
   },
   "cell_type": "code",
   "source": [
    "# if IsReturn == 1, then make TotalQuantity negative\n",
    "df['TotalQuantity'] = np.where(df['IsReturn'] == 1, -df['TotalQuantity'], df['TotalQuantity'])\n"
   ],
   "id": "5563e737e619d682",
   "outputs": [],
   "execution_count": 7
  },
  {
   "metadata": {
    "ExecuteTime": {
     "end_time": "2024-06-02T08:34:08.022670Z",
     "start_time": "2024-06-02T08:34:04.963532Z"
    }
   },
   "cell_type": "code",
   "source": [
    "data = df.copy()\n",
    "\n",
    "data['Date'] = pd.to_datetime(data['Date'])\n",
    "data['Week'] = data['Date'].dt.isocalendar().week\n",
    "data['Month'] = data['Date'].dt.month\n",
    "data['Quarter'] = data['Date'].dt.quarter\n",
    "data['Year'] = data['Date'].dt.year\n",
    "\n",
    "# if sales region x and y are the same save \n",
    "data = data[data['SalesRegionID_x'] == data['SalesRegionID_y']]\n",
    "\n",
    "# merge region cols \n",
    "data['SalesRegionID'] = data['SalesRegionID_x'].combine_first(data['SalesRegionID_y'])\n",
    "data.drop(columns=['SalesRegionID_x', 'SalesRegionID_y'], inplace=True)\n",
    "\n",
    "data['Status'] = data['Status'].apply(lambda x: True if x == 'Active' else False)\n",
    "\n",
    "data['District'] = data['District'].str.upper()\n",
    "data['District'].unique()"
   ],
   "id": "23fdc3407066b2d7",
   "outputs": [
    {
     "data": {
      "text/plain": [
       "array(['SANCAKTEPE', 'BAKIRKÖY', 'KÜÇÜKÇEKMECE', 'BAĞCILAR', 'BAYRAMPAŞA',\n",
       "       'GAZİOSMANPAŞA', 'GAZIOSMANPAŞA', 'ZEYTINBURNU', 'FATİH',\n",
       "       'ZEYTİNBURNU', 'EYÜP', 'BAHÇELİEVLER', 'GÜNGÖREN', 'SULTANGAZİ',\n",
       "       'ESENLER', 'BÜYÜKÇEKMECE', 'BAHÇELIEVLER', 'SİLİVRİ', 'SULTANGAZI',\n",
       "       nan, 'FATIH', 'ATAŞEHİR', 'AVCILAR', 'BAŞAKŞEHİR', 'ÜSKÜDAR',\n",
       "       'ÜMRANİYE', 'BEYLİKDÜZÜ', 'PENDİK', 'TUZLA', 'KARTAL',\n",
       "       'SULTANBEYLİ', 'ÇEKMEKÖY', 'PENDIK', 'SILIVRI', 'KADIKÖY', 'ŞIŞLI',\n",
       "       'MALTEPE', 'ESENYURT', 'KAĞITHANE', 'BEYOĞLU', 'ŞİŞLİ', 'BEŞİKTAŞ',\n",
       "       'BAŞAKŞEHIR', 'ÜMRANIYE', 'ATAŞEHIR', 'BEYKOZ', 'ŞİLE', 'GÖZTEPE',\n",
       "       'ADALAR', 'ŞILE', 'ARNAVUTKÖY', 'SARIYER', 'BEŞIKTAŞ', 'ÇATALCA',\n",
       "       'BEYLIKDÜZÜ', 'CEKMEKOY', 'EMİNÖNÜ', 'SULTANBEYLI', 'KINALIADA',\n",
       "       'EYÜPSULTAN'], dtype=object)"
      ]
     },
     "execution_count": 8,
     "metadata": {},
     "output_type": "execute_result"
    }
   ],
   "execution_count": 8
  },
  {
   "metadata": {
    "ExecuteTime": {
     "end_time": "2024-06-02T08:34:12.975522Z",
     "start_time": "2024-06-02T08:34:08.023990Z"
    }
   },
   "cell_type": "code",
   "source": [
    "name_cols = ['MainDistID', 'DistID', 'HcoID', 'SkuID']\n",
    "categorical_cols = ['HcoType', 'SalesRegionID'] \n",
    "numerical_cols = ['PaidQty', 'FGQty', 'TotalQuantity', 'Week', 'Quarter', 'Month', 'Year']\n",
    "boolean_cols = ['IsReturn', 'IsMrsOrder', 'Status']\n",
    "\n",
    "# convert categorical columns to 'category' data type\n",
    "for col in categorical_cols:\n",
    "    data[col] = data[col].astype('category')\n",
    "\n",
    "# convert numerical columns to 'int' data type\n",
    "for col in numerical_cols:\n",
    "    data[col] = data[col].astype('int')\n",
    "    \n",
    "# convert name columns to str data type\n",
    "for col in name_cols:\n",
    "    data[col] = data[col].astype(str)\n",
    "\n",
    "# convert boolean columns to 'bool' data type\n",
    "for col in boolean_cols:\n",
    "    data[col] = data[col].astype(bool)\n",
    "    \n",
    "data.info()\n",
    "raw_data = data.copy()"
   ],
   "id": "f9b17299dc9c888a",
   "outputs": [
    {
     "name": "stdout",
     "output_type": "stream",
     "text": [
      "<class 'pandas.core.frame.DataFrame'>\n",
      "Index: 4111852 entries, 126 to 4201058\n",
      "Data columns (total 19 columns):\n",
      " #   Column         Dtype         \n",
      "---  ------         -----         \n",
      " 0   MainDistID     object        \n",
      " 1   DistID         object        \n",
      " 2   Date           datetime64[ns]\n",
      " 3   HcoID          object        \n",
      " 4   BrandID        int64         \n",
      " 5   SkuID          object        \n",
      " 6   IsReturn       bool          \n",
      " 7   PaidQty        int64         \n",
      " 8   FGQty          int64         \n",
      " 9   IsMrsOrder     bool          \n",
      " 10  HcoType        category      \n",
      " 11  District       object        \n",
      " 12  Status         bool          \n",
      " 13  TotalQuantity  int64         \n",
      " 14  Week           int64         \n",
      " 15  Month          int64         \n",
      " 16  Quarter        int64         \n",
      " 17  Year           int64         \n",
      " 18  SalesRegionID  category      \n",
      "dtypes: bool(3), category(2), datetime64[ns](1), int64(8), object(5)\n",
      "memory usage: 619.2+ MB\n"
     ]
    }
   ],
   "execution_count": 9
  },
  {
   "metadata": {
    "ExecuteTime": {
     "end_time": "2024-06-02T08:34:13.325045Z",
     "start_time": "2024-06-02T08:34:12.976817Z"
    }
   },
   "cell_type": "code",
   "source": [
    "segment_1_sku_ids = [\"568\", \"578\", \"1050\"]\n",
    "segment_2_sku_ids = [\"319\", \"509\", \"615\", \"1018\"]\n",
    "\n",
    "all_sku_ids = segment_1_sku_ids + segment_2_sku_ids\n",
    "\n",
    "data = data[data['SkuID'].isin(all_sku_ids)]"
   ],
   "id": "c23be2c2fd16cc32",
   "outputs": [],
   "execution_count": 10
  },
  {
   "metadata": {
    "ExecuteTime": {
     "end_time": "2024-06-02T08:34:16.016949Z",
     "start_time": "2024-06-02T08:34:13.326017Z"
    }
   },
   "cell_type": "code",
   "source": "data.to_csv('data/istanbul_data_fully_preprocessed.csv', index=False)",
   "id": "369a52ad52b8ad75",
   "outputs": [],
   "execution_count": 11
  },
  {
   "metadata": {
    "ExecuteTime": {
     "end_time": "2024-05-23T16:12:27.980437Z",
     "start_time": "2024-05-23T16:12:16.233907Z"
    }
   },
   "cell_type": "code",
   "source": [
    "# export it to data/istanbul_data_preprocessed.csv\n",
    "\n",
    "df.to_csv('data/istanbul_data_preprocessed.csv', index=False)\n",
    "\n",
    "df.set_index('Date', inplace=True)"
   ],
   "id": "4b580a07654a19ac",
   "execution_count": 17,
   "outputs": []
  },
  {
   "cell_type": "code",
   "id": "5ef58a2ee96f7a4a",
   "metadata": {
    "collapsed": false
   },
   "source": [
    "# Temporal Analysis\n",
    "# Analyze sales trends over time\n",
    "sales_trend = df.groupby('Date')['TotalQuantity'].sum()\n",
    "sales_trend.plot(figsize=(10, 6))\n",
    "plt.title('Total Sales Trend Over Time')\n",
    "plt.xlabel('Date')\n",
    "plt.ylabel('Total Quantity Sold')\n",
    "plt.show()"
   ],
   "execution_count": null,
   "outputs": []
  },
  {
   "cell_type": "code",
   "id": "ab52a4058c13e430",
   "metadata": {
    "collapsed": false
   },
   "source": [
    "# Customer Segmentation\n",
    "# Segment customers based on ordering behavior\n",
    "customer_segmentation = df.groupby('HcoID')['TotalQuantity'].sum().reset_index()\n",
    "customer_segmentation['Segment'] = pd.qcut(customer_segmentation['TotalQuantity'], q=4, labels=['Low', 'Medium', 'High', 'Very High'])\n",
    "customer_segmentation['Segment'].value_counts()"
   ],
   "execution_count": null,
   "outputs": []
  },
  {
   "cell_type": "code",
   "id": "4838a6f6d12fd7ab",
   "metadata": {
    "collapsed": false
   },
   "source": [
    "# Product Analysis\n",
    "# Analyze sales volumes and trends for different SKUs\n",
    "product_sales = df.groupby('SkuID')['TotalQuantity'].sum().sort_values(ascending=False)\n",
    "product_sales.head(10).plot(kind='bar', figsize=(10, 6))\n",
    "plt.title('Top 10 Best Selling SKUs')\n",
    "plt.xlabel('SKU')\n",
    "plt.ylabel('Total Quantity Sold')\n",
    "plt.xticks(rotation=45)\n",
    "plt.show()\n",
    "\n",
    "# SKU\tTotal Quantity Sold\tAverage Monthly Sales\tPeak Month Peak Quantity\n",
    "product_analysis = df.groupby('SkuID').agg(TotalQuantity=('TotalQuantity', 'sum'),\n",
    "                                           AverageMonthlySales=('TotalQuantity', 'mean'),\n",
    "                                           PeakMonth=('Month', lambda x: x.value_counts().index[0]),\n",
    "                                           PeakQuantity=('Month', lambda x: x.value_counts().iloc[0]))\n",
    "product_analysis = product_analysis.sort_values('TotalQuantity', ascending=False)\n",
    "product_analysis.head(10)\n",
    "# print(product_analysis.head(10).to_latex())\n"
   ],
   "execution_count": null,
   "outputs": []
  },
  {
   "cell_type": "code",
   "id": "fa80f3697c910021",
   "metadata": {
    "collapsed": false
   },
   "source": [
    "# Supply Chain Analysis\n",
    "# Analyze inventory levels and turnover rates for top 10 SKUs\n",
    "inventory_analysis = df.groupby('SkuID')['TotalQuantity'].agg(['sum', 'count']).rename(columns={'sum': 'TotalQuantity', 'count': 'TransactionCount'})\n",
    "inventory_analysis['TurnoverRate'] = inventory_analysis['TotalQuantity'] / inventory_analysis['TransactionCount']\n",
    "inventory_analysis = inventory_analysis.sort_values('TurnoverRate', ascending=False)\n",
    "inventory_analysis.head(10)\n",
    "\n",
    "# print(inventory_analysis.head(10).to_latex())"
   ],
   "execution_count": null,
   "outputs": []
  },
  {
   "cell_type": "markdown",
   "id": "c2df0c3125d081f4",
   "metadata": {},
   "source": [
    "### Seçilenler\n",
    "\n",
    "- I. Segment: 568 (challenge olan), 578, 1050\n",
    "- II. Segment: 319 (en stabil olan), 509/615, 1018 (düşük satışlı olan)"
   ]
  },
  {
   "cell_type": "code",
   "id": "270f667f5d86dc3e",
   "metadata": {
    "collapsed": false
   },
   "source": [
    "segment_1_sku_ids = ['568', '578', '1050']\n",
    "segment_2_sku_ids = ['319', '509', '615', '1018']"
   ],
   "execution_count": null,
   "outputs": []
  },
  {
   "cell_type": "code",
   "id": "2c44d71fa78653f5",
   "metadata": {
    "collapsed": false
   },
   "source": [
    "# SKU 568\n",
    "sku_id = segment_1_sku_ids[0]\n",
    "sku_sales = df[df['SkuID'] == sku_id].groupby('Date')['TotalQuantity'].sum()\n",
    "\n",
    "sku_sales.plot(figsize=(10, 6))\n",
    "plt.title(f'Sales Trend for SKU: {sku_id}')\n",
    "plt.xlabel('Date')\n",
    "plt.ylabel('Total Quantity Sold')\n",
    "plt.show()"
   ],
   "execution_count": null,
   "outputs": []
  },
  {
   "cell_type": "code",
   "id": "126798f790c506",
   "metadata": {
    "collapsed": false
   },
   "source": [
    "# SKU 1050\n",
    "\n",
    "sku_id = segment_1_sku_ids[2]\n",
    "sku_sales = df[df['SkuID'] == sku_id].groupby('Date')['TotalQuantity'].sum()\n",
    "\n",
    "sku_sales.plot(figsize=(10, 6))\n",
    "plt.title(f'Sales Trend for SKU: {sku_id}')\n",
    "plt.xlabel('Date')\n",
    "plt.ylabel('Total Quantity Sold')\n",
    "plt.show()"
   ],
   "execution_count": null,
   "outputs": []
  },
  {
   "cell_type": "code",
   "id": "8dafd809527af23b",
   "metadata": {
    "collapsed": false
   },
   "source": [
    "# SKU 319\n",
    "\n",
    "sku_id = segment_2_sku_ids[0]\n",
    "sku_sales = df[df['SkuID'] == sku_id].groupby('Date')['TotalQuantity'].sum()\n",
    "\n",
    "sku_sales.plot(figsize=(10, 6))\n",
    "plt.title(f'Sales Trend for SKU: {sku_id}')\n",
    "plt.xlabel('Date')\n",
    "plt.ylabel('Total Quantity Sold')\n",
    "plt.show()"
   ],
   "execution_count": null,
   "outputs": []
  },
  {
   "cell_type": "code",
   "id": "b627f24493f30e9",
   "metadata": {
    "collapsed": false
   },
   "source": [
    "# Create a new dataframe for the selected SKUs\n",
    "selected_skus = segment_1_sku_ids + segment_2_sku_ids\n",
    "selected_skus_df = df[df['SkuID'].isin(selected_skus)]\n",
    "\n",
    "# Create a pivot table for the selected SKUs\n",
    "selected_skus_pivot = selected_skus_df.pivot_table(index='Date', columns='SkuID', values='TotalQuantity', aggfunc='sum')\n",
    "selected_skus_pivot = selected_skus_pivot.fillna(0)\n",
    "\n",
    "# Plot the sales trends for the selected SKUs\n",
    "selected_skus_pivot.plot(figsize=(10, 6))\n",
    "plt.title('Sales Trends for Selected SKUs')\n",
    "plt.xlabel('Date')\n",
    "plt.ylabel('Total Quantity Sold')\n",
    "plt.show()\n",
    "\n",
    "selected_skus_pivot.head()"
   ],
   "execution_count": null,
   "outputs": []
  },
  {
   "cell_type": "code",
   "id": "33e097feb0cafae4",
   "metadata": {
    "collapsed": false
   },
   "source": "selected_skus_df.head()",
   "execution_count": null,
   "outputs": []
  },
  {
   "cell_type": "code",
   "id": "77e83414e63d8660",
   "metadata": {
    "collapsed": false
   },
   "source": [
    "selected_skus_df.info()"
   ],
   "execution_count": null,
   "outputs": []
  }
 ],
 "metadata": {
  "kernelspec": {
   "display_name": "Python 3 (ipykernel)",
   "language": "python",
   "name": "python3"
  },
  "language_info": {
   "codemirror_mode": {
    "name": "ipython",
    "version": 3
   },
   "file_extension": ".py",
   "mimetype": "text/x-python",
   "name": "python",
   "nbconvert_exporter": "python",
   "pygments_lexer": "ipython3",
   "version": "3.11.5"
  }
 },
 "nbformat": 4,
 "nbformat_minor": 5
}
