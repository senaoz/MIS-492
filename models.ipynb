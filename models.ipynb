{
 "cells": [
  {
   "cell_type": "code",
   "execution_count": 316,
   "id": "e2e772fd-3214-46c7-afd4-9887e93b7c5d",
   "metadata": {
    "tags": [],
    "ExecuteTime": {
     "end_time": "2024-05-20T08:05:17.553832Z",
     "start_time": "2024-05-20T08:05:10.620027Z"
    }
   },
   "outputs": [
    {
     "name": "stdout",
     "output_type": "stream",
     "text": [
      "<class 'pandas.core.frame.DataFrame'>\n",
      "RangeIndex: 4201059 entries, 0 to 4201058\n",
      "Data columns (total 16 columns):\n",
      " #   Column           Dtype  \n",
      "---  ------           -----  \n",
      " 0   MainDistID       int64  \n",
      " 1   DistID           int64  \n",
      " 2   Date             object \n",
      " 3   HcoID            int64  \n",
      " 4   SalesRegionID_x  int64  \n",
      " 5   BrandID          int64  \n",
      " 6   SkuID            int64  \n",
      " 7   IsReturn         int64  \n",
      " 8   PaidQty          float64\n",
      " 9   FGQty            float64\n",
      " 10  IsMrsOrder       int64  \n",
      " 11  HcoType          object \n",
      " 12  District         object \n",
      " 13  SalesRegionID_y  int64  \n",
      " 14  Status           object \n",
      " 15  TotalQuantity    int64  \n",
      "dtypes: float64(2), int64(10), object(4)\n",
      "memory usage: 512.8+ MB\n"
     ]
    }
   ],
   "source": [
    "import pandas as pd\n",
    "import numpy as np\n",
    "\n",
    "# get hco data\n",
    "hco_data_istanbul = pd.read_csv('./data/hco_data_istanbul.csv')\n",
    "\n",
    "# get sales data\n",
    "df = pd.read_csv('./data/istanbul_data.csv')\n",
    "drop_columns = ['Year_Month', 'Lat', 'Lon', 'City']\n",
    "df = df.drop(columns=drop_columns)\n",
    "\n",
    "df.info()"
   ]
  },
  {
   "cell_type": "code",
   "outputs": [
    {
     "name": "stdout",
     "output_type": "stream",
     "text": [
      "<class 'pandas.core.frame.DataFrame'>\n",
      "DatetimeIndex: 4201059 entries, 2019-01-16 to 2021-12-30\n",
      "Data columns (total 15 columns):\n",
      " #   Column           Dtype   \n",
      "---  ------           -----   \n",
      " 0   MainDistID       object  \n",
      " 1   DistID           object  \n",
      " 2   HcoID            object  \n",
      " 3   SalesRegionID_x  category\n",
      " 4   BrandID          int64   \n",
      " 5   SkuID            object  \n",
      " 6   IsReturn         bool    \n",
      " 7   PaidQty          int64   \n",
      " 8   FGQty            int64   \n",
      " 9   IsMrsOrder       bool    \n",
      " 10  HcoType          category\n",
      " 11  District         category\n",
      " 12  SalesRegionID_y  category\n",
      " 13  Status           category\n",
      " 14  TotalQuantity    int64   \n",
      "dtypes: bool(2), category(5), int64(4), object(4)\n",
      "memory usage: 316.5+ MB\n"
     ]
    }
   ],
   "source": [
    "name_cols = ['MainDistID', 'DistID', 'HcoID', 'SkuID']\n",
    "categorical_cols = ['SalesRegionID_x','SalesRegionID_y', 'HcoType', 'District', 'Status', ]\n",
    "numerical_cols = ['PaidQty', 'FGQty', 'TotalQuantity']\n",
    "boolean_cols = ['IsReturn', 'IsMrsOrder']\n",
    "df['Date'] = pd.to_datetime(df['Date'])\n",
    "\n",
    "# convert categorical columns to 'category' data type\n",
    "for col in categorical_cols:\n",
    "    df[col] = df[col].astype('category')\n",
    "\n",
    "# convert numerical columns to 'int' data type\n",
    "for col in numerical_cols:\n",
    "    df[col] = df[col].astype('int')\n",
    "    \n",
    "# convert name columns to str data type\n",
    "for col in name_cols:\n",
    "    df[col] = df[col].astype(str)\n",
    "    \n",
    "# convert boolean columns to 'bool' data type\n",
    "for col in boolean_cols:\n",
    "    df[col] = df[col].astype(bool)\n",
    "    \n",
    "df = df.set_index('Date')    \n",
    "df.info()"
   ],
   "metadata": {
    "collapsed": false,
    "ExecuteTime": {
     "end_time": "2024-05-20T08:05:23.124201Z",
     "start_time": "2024-05-20T08:05:17.568618Z"
    }
   },
   "id": "724c0aba2b64fae9",
   "execution_count": 317
  },
  {
   "cell_type": "code",
   "execution_count": 318,
   "id": "586d8f72-21f5-4d38-b068-5bdee707e112",
   "metadata": {
    "tags": [],
    "ExecuteTime": {
     "end_time": "2024-05-20T08:05:23.146083Z",
     "start_time": "2024-05-20T08:05:23.123809Z"
    }
   },
   "outputs": [],
   "source": [
    "# if IsReturn == 1, then make TotalQuantity negative\n",
    "df['TotalQuantity'] = np.where(df['IsReturn'] == 1, -df['TotalQuantity'], df['TotalQuantity'])"
   ]
  },
  {
   "cell_type": "code",
   "outputs": [
    {
     "data": {
      "text/plain": "           MainDistID   DistID    HcoID SalesRegionID_x  BrandID  SkuID  \\\nDate                                                                      \n2019-12-10    2879249  2878795  2885754         1000000       25    541   \n2019-06-12    2879266  2878721  2860455          340502      107  29230   \n2019-01-05    2879266  2878724  2862447          341903       21    522   \n2019-03-28    2879266  2878724  2862447          341903      113  16870   \n2019-04-12    2879266  2878724  2862447          341903       15    319   \n\n            IsReturn  PaidQty  FGQty  IsMrsOrder HcoType      District  \\\nDate                                                                     \n2019-12-10      True        1      0       False       P    SANCAKTEPE   \n2019-06-12      True        1      0       False       P      BAKIRKÖY   \n2019-01-05      True        1      0       False       P  KÜÇÜKÇEKMECE   \n2019-03-28      True        3      0       False       P  KÜÇÜKÇEKMECE   \n2019-04-12      True        1      0       False       P  KÜÇÜKÇEKMECE   \n\n           SalesRegionID_y  Status  TotalQuantity  \nDate                                               \n2019-12-10          630101  Active             -1  \n2019-06-12          340502  Active             -1  \n2019-01-05          341903  Active             -1  \n2019-03-28          341903  Active             -3  \n2019-04-12          341903  Active             -1  ",
      "text/html": "<div>\n<style scoped>\n    .dataframe tbody tr th:only-of-type {\n        vertical-align: middle;\n    }\n\n    .dataframe tbody tr th {\n        vertical-align: top;\n    }\n\n    .dataframe thead th {\n        text-align: right;\n    }\n</style>\n<table border=\"1\" class=\"dataframe\">\n  <thead>\n    <tr style=\"text-align: right;\">\n      <th></th>\n      <th>MainDistID</th>\n      <th>DistID</th>\n      <th>HcoID</th>\n      <th>SalesRegionID_x</th>\n      <th>BrandID</th>\n      <th>SkuID</th>\n      <th>IsReturn</th>\n      <th>PaidQty</th>\n      <th>FGQty</th>\n      <th>IsMrsOrder</th>\n      <th>HcoType</th>\n      <th>District</th>\n      <th>SalesRegionID_y</th>\n      <th>Status</th>\n      <th>TotalQuantity</th>\n    </tr>\n    <tr>\n      <th>Date</th>\n      <th></th>\n      <th></th>\n      <th></th>\n      <th></th>\n      <th></th>\n      <th></th>\n      <th></th>\n      <th></th>\n      <th></th>\n      <th></th>\n      <th></th>\n      <th></th>\n      <th></th>\n      <th></th>\n      <th></th>\n    </tr>\n  </thead>\n  <tbody>\n    <tr>\n      <th>2019-12-10</th>\n      <td>2879249</td>\n      <td>2878795</td>\n      <td>2885754</td>\n      <td>1000000</td>\n      <td>25</td>\n      <td>541</td>\n      <td>True</td>\n      <td>1</td>\n      <td>0</td>\n      <td>False</td>\n      <td>P</td>\n      <td>SANCAKTEPE</td>\n      <td>630101</td>\n      <td>Active</td>\n      <td>-1</td>\n    </tr>\n    <tr>\n      <th>2019-06-12</th>\n      <td>2879266</td>\n      <td>2878721</td>\n      <td>2860455</td>\n      <td>340502</td>\n      <td>107</td>\n      <td>29230</td>\n      <td>True</td>\n      <td>1</td>\n      <td>0</td>\n      <td>False</td>\n      <td>P</td>\n      <td>BAKIRKÖY</td>\n      <td>340502</td>\n      <td>Active</td>\n      <td>-1</td>\n    </tr>\n    <tr>\n      <th>2019-01-05</th>\n      <td>2879266</td>\n      <td>2878724</td>\n      <td>2862447</td>\n      <td>341903</td>\n      <td>21</td>\n      <td>522</td>\n      <td>True</td>\n      <td>1</td>\n      <td>0</td>\n      <td>False</td>\n      <td>P</td>\n      <td>KÜÇÜKÇEKMECE</td>\n      <td>341903</td>\n      <td>Active</td>\n      <td>-1</td>\n    </tr>\n    <tr>\n      <th>2019-03-28</th>\n      <td>2879266</td>\n      <td>2878724</td>\n      <td>2862447</td>\n      <td>341903</td>\n      <td>113</td>\n      <td>16870</td>\n      <td>True</td>\n      <td>3</td>\n      <td>0</td>\n      <td>False</td>\n      <td>P</td>\n      <td>KÜÇÜKÇEKMECE</td>\n      <td>341903</td>\n      <td>Active</td>\n      <td>-3</td>\n    </tr>\n    <tr>\n      <th>2019-04-12</th>\n      <td>2879266</td>\n      <td>2878724</td>\n      <td>2862447</td>\n      <td>341903</td>\n      <td>15</td>\n      <td>319</td>\n      <td>True</td>\n      <td>1</td>\n      <td>0</td>\n      <td>False</td>\n      <td>P</td>\n      <td>KÜÇÜKÇEKMECE</td>\n      <td>341903</td>\n      <td>Active</td>\n      <td>-1</td>\n    </tr>\n  </tbody>\n</table>\n</div>"
     },
     "execution_count": 319,
     "metadata": {},
     "output_type": "execute_result"
    }
   ],
   "source": [
    "# select isReturn column = 1\n",
    "isReturn1 = df[df['IsReturn'] == 1]\n",
    "isReturn1.head()"
   ],
   "metadata": {
    "collapsed": false,
    "ExecuteTime": {
     "end_time": "2024-05-20T08:05:23.189328Z",
     "start_time": "2024-05-20T08:05:23.149357Z"
    }
   },
   "id": "e63734bf9f5a0324",
   "execution_count": 319
  },
  {
   "cell_type": "markdown",
   "id": "c4f9f7e1-dcdc-474c-b27b-d8bed57c9716",
   "metadata": {
    "tags": []
   },
   "source": [
    "### Seçilenler\n",
    "\n",
    "- I. Segment: 568 (challenge olan), 578, 1050\n",
    "- II. Segment: 319 (en stabil olan), 509/615, 1018 (düşük satışlı olan)"
   ]
  },
  {
   "cell_type": "code",
   "execution_count": 320,
   "id": "4bb60cad-7adb-4355-868d-17f06fabae8c",
   "metadata": {
    "tags": [],
    "ExecuteTime": {
     "end_time": "2024-05-20T08:05:23.206201Z",
     "start_time": "2024-05-20T08:05:23.189627Z"
    }
   },
   "outputs": [],
   "source": [
    "segment_1_sku_ids = ['568', '578', '1050']\n",
    "segment_2_sku_ids = ['319', '509', '615', '1018']"
   ]
  },
  {
   "cell_type": "code",
   "outputs": [],
   "source": [
    "# Create a new dataframe for the selected SKUs\n",
    "selected_skus = ['319']\n",
    "selected_skus_df = df[df['SkuID'].isin(selected_skus)]"
   ],
   "metadata": {
    "collapsed": false,
    "ExecuteTime": {
     "end_time": "2024-05-20T08:05:23.364366Z",
     "start_time": "2024-05-20T08:05:23.324587Z"
    }
   },
   "id": "aeee5e186fdd7707",
   "execution_count": 321
  },
  {
   "cell_type": "code",
   "outputs": [],
   "source": [
    "# select features and target variable\n",
    "selected_features = ['MainDistID', 'DistID', 'HcoID', 'HcoType', 'Status', 'IsReturn', 'IsMrsOrder', 'PaidQty', 'FGQty', 'TotalQuantity']\n",
    "target_variable = 'TotalQuantity'"
   ],
   "metadata": {
    "collapsed": false,
    "ExecuteTime": {
     "end_time": "2024-05-20T08:05:23.364967Z",
     "start_time": "2024-05-20T08:05:23.355156Z"
    }
   },
   "id": "38c241ca6e99e28d",
   "execution_count": 322
  },
  {
   "cell_type": "code",
   "outputs": [
    {
     "name": "stdout",
     "output_type": "stream",
     "text": [
      "<class 'pandas.core.frame.DataFrame'>\n",
      "DatetimeIndex: 206690 entries, 2019-01-31 to 2021-12-28\n",
      "Data columns (total 10 columns):\n",
      " #   Column         Non-Null Count   Dtype   \n",
      "---  ------         --------------   -----   \n",
      " 0   MainDistID     206690 non-null  object  \n",
      " 1   DistID         206690 non-null  object  \n",
      " 2   HcoID          206690 non-null  object  \n",
      " 3   HcoType        206690 non-null  category\n",
      " 4   Status         206690 non-null  category\n",
      " 5   IsReturn       206690 non-null  bool    \n",
      " 6   IsMrsOrder     206690 non-null  bool    \n",
      " 7   PaidQty        206690 non-null  int64   \n",
      " 8   FGQty          206690 non-null  int64   \n",
      " 9   TotalQuantity  206690 non-null  int64   \n",
      "dtypes: bool(2), category(2), int64(3), object(3)\n",
      "memory usage: 11.8+ MB\n"
     ]
    }
   ],
   "source": [
    "selected_skus_df = selected_skus_df[selected_features]\n",
    "selected_skus_df.info()"
   ],
   "metadata": {
    "collapsed": false,
    "ExecuteTime": {
     "end_time": "2024-05-20T08:05:23.436074Z",
     "start_time": "2024-05-20T08:05:23.358596Z"
    }
   },
   "id": "7572c87bc7cf961e",
   "execution_count": 323
  },
  {
   "cell_type": "code",
   "execution_count": 324,
   "id": "62cb9a7b-5591-4776-8d00-7db86046a4fb",
   "metadata": {
    "tags": [],
    "ExecuteTime": {
     "end_time": "2024-05-20T08:05:23.489376Z",
     "start_time": "2024-05-20T08:05:23.482005Z"
    }
   },
   "outputs": [
    {
     "data": {
      "text/plain": "MainDistID       0\nDistID           0\nHcoID            0\nHcoType          0\nStatus           0\nIsReturn         0\nIsMrsOrder       0\nPaidQty          0\nFGQty            0\nTotalQuantity    0\ndtype: int64"
     },
     "execution_count": 324,
     "metadata": {},
     "output_type": "execute_result"
    }
   ],
   "source": [
    "# Check for missing values\n",
    "selected_skus_df.isnull().sum()"
   ]
  },
  {
   "cell_type": "code",
   "execution_count": 325,
   "id": "7dbf6b45ee9b80fe",
   "metadata": {
    "tags": [],
    "ExecuteTime": {
     "end_time": "2024-05-20T08:05:23.497881Z",
     "start_time": "2024-05-20T08:05:23.491897Z"
    }
   },
   "outputs": [
    {
     "data": {
      "text/plain": "           MainDistID   DistID    HcoID HcoType  Status  IsReturn  IsMrsOrder  \\\nDate                                                                            \n2019-01-31    2879249  2878795  2885754       P  Active     False       False   \n2019-05-07    2879266  2878720  2885754       P  Active     False       False   \n2019-06-11    2879249  2878795  2885754       P  Active     False       False   \n2019-08-26    2879249  2878795  2885754       P  Active     False       False   \n2019-10-07    2879249  2878795  2885754       P  Active     False       False   \n\n            PaidQty  FGQty  TotalQuantity  \nDate                                       \n2019-01-31        2      0              2  \n2019-05-07        2      0              2  \n2019-06-11        2      0              2  \n2019-08-26        3      0              3  \n2019-10-07        1      0              1  ",
      "text/html": "<div>\n<style scoped>\n    .dataframe tbody tr th:only-of-type {\n        vertical-align: middle;\n    }\n\n    .dataframe tbody tr th {\n        vertical-align: top;\n    }\n\n    .dataframe thead th {\n        text-align: right;\n    }\n</style>\n<table border=\"1\" class=\"dataframe\">\n  <thead>\n    <tr style=\"text-align: right;\">\n      <th></th>\n      <th>MainDistID</th>\n      <th>DistID</th>\n      <th>HcoID</th>\n      <th>HcoType</th>\n      <th>Status</th>\n      <th>IsReturn</th>\n      <th>IsMrsOrder</th>\n      <th>PaidQty</th>\n      <th>FGQty</th>\n      <th>TotalQuantity</th>\n    </tr>\n    <tr>\n      <th>Date</th>\n      <th></th>\n      <th></th>\n      <th></th>\n      <th></th>\n      <th></th>\n      <th></th>\n      <th></th>\n      <th></th>\n      <th></th>\n      <th></th>\n    </tr>\n  </thead>\n  <tbody>\n    <tr>\n      <th>2019-01-31</th>\n      <td>2879249</td>\n      <td>2878795</td>\n      <td>2885754</td>\n      <td>P</td>\n      <td>Active</td>\n      <td>False</td>\n      <td>False</td>\n      <td>2</td>\n      <td>0</td>\n      <td>2</td>\n    </tr>\n    <tr>\n      <th>2019-05-07</th>\n      <td>2879266</td>\n      <td>2878720</td>\n      <td>2885754</td>\n      <td>P</td>\n      <td>Active</td>\n      <td>False</td>\n      <td>False</td>\n      <td>2</td>\n      <td>0</td>\n      <td>2</td>\n    </tr>\n    <tr>\n      <th>2019-06-11</th>\n      <td>2879249</td>\n      <td>2878795</td>\n      <td>2885754</td>\n      <td>P</td>\n      <td>Active</td>\n      <td>False</td>\n      <td>False</td>\n      <td>2</td>\n      <td>0</td>\n      <td>2</td>\n    </tr>\n    <tr>\n      <th>2019-08-26</th>\n      <td>2879249</td>\n      <td>2878795</td>\n      <td>2885754</td>\n      <td>P</td>\n      <td>Active</td>\n      <td>False</td>\n      <td>False</td>\n      <td>3</td>\n      <td>0</td>\n      <td>3</td>\n    </tr>\n    <tr>\n      <th>2019-10-07</th>\n      <td>2879249</td>\n      <td>2878795</td>\n      <td>2885754</td>\n      <td>P</td>\n      <td>Active</td>\n      <td>False</td>\n      <td>False</td>\n      <td>1</td>\n      <td>0</td>\n      <td>1</td>\n    </tr>\n  </tbody>\n</table>\n</div>"
     },
     "execution_count": 325,
     "metadata": {},
     "output_type": "execute_result"
    }
   ],
   "source": [
    "selected_skus_df.head()"
   ]
  },
  {
   "cell_type": "code",
   "outputs": [
    {
     "name": "stdout",
     "output_type": "stream",
     "text": [
      "<class 'pandas.core.frame.DataFrame'>\n",
      "DatetimeIndex: 206690 entries, 2019-01-31 to 2021-12-28\n",
      "Data columns (total 11 columns):\n",
      " #   Column           Non-Null Count   Dtype \n",
      "---  ------           --------------   ----- \n",
      " 0   MainDistID       206690 non-null  object\n",
      " 1   DistID           206690 non-null  object\n",
      " 2   HcoID            206690 non-null  object\n",
      " 3   IsReturn         206690 non-null  bool  \n",
      " 4   IsMrsOrder       206690 non-null  bool  \n",
      " 5   PaidQty          206690 non-null  int64 \n",
      " 6   FGQty            206690 non-null  int64 \n",
      " 7   TotalQuantity    206690 non-null  int64 \n",
      " 8   HcoType_P        206690 non-null  bool  \n",
      " 9   HcoType_W        206690 non-null  bool  \n",
      " 10  Status_Inactive  206690 non-null  bool  \n",
      "dtypes: bool(5), int64(3), object(3)\n",
      "memory usage: 12.0+ MB\n"
     ]
    }
   ],
   "source": [
    "df_encoded = selected_skus_df.copy()\n",
    "\n",
    "for col in df_encoded.columns:\n",
    "    if df_encoded[col].dtype.name == 'category':\n",
    "        df_encoded = pd.get_dummies(df_encoded, columns=[col], drop_first=True)\n",
    "        \n",
    "df_encoded.info()"
   ],
   "metadata": {
    "collapsed": false,
    "ExecuteTime": {
     "end_time": "2024-05-20T08:05:23.613726Z",
     "start_time": "2024-05-20T08:05:23.495008Z"
    }
   },
   "id": "4b233f1171d42740",
   "execution_count": 326
  },
  {
   "cell_type": "code",
   "outputs": [],
   "source": [
    "for col in df_encoded.columns:\n",
    "    if df_encoded[col].dtype.name == 'object':\n",
    "        df_encoded[col] = df_encoded[col].astype('category')"
   ],
   "metadata": {
    "collapsed": false,
    "ExecuteTime": {
     "end_time": "2024-05-20T08:05:23.708243Z",
     "start_time": "2024-05-20T08:05:23.611985Z"
    }
   },
   "id": "e414c3b71513001d",
   "execution_count": 327
  },
  {
   "cell_type": "code",
   "outputs": [
    {
     "data": {
      "text/plain": "           MainDistID   DistID    HcoID  IsReturn  IsMrsOrder  PaidQty  FGQty  \\\nDate                                                                            \n2019-01-31    2879249  2878795  2885754     False       False        2      0   \n2019-05-07    2879266  2878720  2885754     False       False        2      0   \n2019-06-11    2879249  2878795  2885754     False       False        2      0   \n2019-08-26    2879249  2878795  2885754     False       False        3      0   \n2019-10-07    2879249  2878795  2885754     False       False        1      0   \n\n            TotalQuantity  HcoType_P  HcoType_W  Status_Inactive  \nDate                                                              \n2019-01-31              2       True      False            False  \n2019-05-07              2       True      False            False  \n2019-06-11              2       True      False            False  \n2019-08-26              3       True      False            False  \n2019-10-07              1       True      False            False  ",
      "text/html": "<div>\n<style scoped>\n    .dataframe tbody tr th:only-of-type {\n        vertical-align: middle;\n    }\n\n    .dataframe tbody tr th {\n        vertical-align: top;\n    }\n\n    .dataframe thead th {\n        text-align: right;\n    }\n</style>\n<table border=\"1\" class=\"dataframe\">\n  <thead>\n    <tr style=\"text-align: right;\">\n      <th></th>\n      <th>MainDistID</th>\n      <th>DistID</th>\n      <th>HcoID</th>\n      <th>IsReturn</th>\n      <th>IsMrsOrder</th>\n      <th>PaidQty</th>\n      <th>FGQty</th>\n      <th>TotalQuantity</th>\n      <th>HcoType_P</th>\n      <th>HcoType_W</th>\n      <th>Status_Inactive</th>\n    </tr>\n    <tr>\n      <th>Date</th>\n      <th></th>\n      <th></th>\n      <th></th>\n      <th></th>\n      <th></th>\n      <th></th>\n      <th></th>\n      <th></th>\n      <th></th>\n      <th></th>\n      <th></th>\n    </tr>\n  </thead>\n  <tbody>\n    <tr>\n      <th>2019-01-31</th>\n      <td>2879249</td>\n      <td>2878795</td>\n      <td>2885754</td>\n      <td>False</td>\n      <td>False</td>\n      <td>2</td>\n      <td>0</td>\n      <td>2</td>\n      <td>True</td>\n      <td>False</td>\n      <td>False</td>\n    </tr>\n    <tr>\n      <th>2019-05-07</th>\n      <td>2879266</td>\n      <td>2878720</td>\n      <td>2885754</td>\n      <td>False</td>\n      <td>False</td>\n      <td>2</td>\n      <td>0</td>\n      <td>2</td>\n      <td>True</td>\n      <td>False</td>\n      <td>False</td>\n    </tr>\n    <tr>\n      <th>2019-06-11</th>\n      <td>2879249</td>\n      <td>2878795</td>\n      <td>2885754</td>\n      <td>False</td>\n      <td>False</td>\n      <td>2</td>\n      <td>0</td>\n      <td>2</td>\n      <td>True</td>\n      <td>False</td>\n      <td>False</td>\n    </tr>\n    <tr>\n      <th>2019-08-26</th>\n      <td>2879249</td>\n      <td>2878795</td>\n      <td>2885754</td>\n      <td>False</td>\n      <td>False</td>\n      <td>3</td>\n      <td>0</td>\n      <td>3</td>\n      <td>True</td>\n      <td>False</td>\n      <td>False</td>\n    </tr>\n    <tr>\n      <th>2019-10-07</th>\n      <td>2879249</td>\n      <td>2878795</td>\n      <td>2885754</td>\n      <td>False</td>\n      <td>False</td>\n      <td>1</td>\n      <td>0</td>\n      <td>1</td>\n      <td>True</td>\n      <td>False</td>\n      <td>False</td>\n    </tr>\n  </tbody>\n</table>\n</div>"
     },
     "execution_count": 328,
     "metadata": {},
     "output_type": "execute_result"
    }
   ],
   "source": [
    "df_encoded.head()"
   ],
   "metadata": {
    "collapsed": false,
    "ExecuteTime": {
     "end_time": "2024-05-20T08:05:23.720334Z",
     "start_time": "2024-05-20T08:05:23.711740Z"
    }
   },
   "id": "8a1021581aee3047",
   "execution_count": 328
  },
  {
   "cell_type": "code",
   "execution_count": 329,
   "id": "fbe5a1f5ba418cd5",
   "metadata": {
    "ExecuteTime": {
     "end_time": "2024-05-20T08:05:23.720998Z",
     "start_time": "2024-05-20T08:05:23.715061Z"
    }
   },
   "outputs": [],
   "source": [
    "# I am creating a model to predict the total quantity of sales for a given SKU\n",
    "# The target variable is 'TotalQuantity'\n",
    "# The features are all the other columns in the dataset\n",
    "\n",
    "# Split the data into features and target variable\n",
    "X = df_encoded.drop(columns=['TotalQuantity'])\n",
    "y = df_encoded['TotalQuantity']"
   ]
  },
  {
   "cell_type": "code",
   "execution_count": 330,
   "id": "bd64bfc76dbcc8a7",
   "metadata": {
    "collapsed": false,
    "ExecuteTime": {
     "end_time": "2024-05-20T08:05:23.746010Z",
     "start_time": "2024-05-20T08:05:23.721085Z"
    }
   },
   "outputs": [],
   "source": [
    "# Split the data into training and test sets\n",
    "from sklearn.model_selection import train_test_split\n",
    "\n",
    "X_train, X_test, y_train, y_test = train_test_split(X, y, test_size=0.2, random_state=42)"
   ]
  },
  {
   "cell_type": "code",
   "execution_count": 331,
   "id": "6f1a2f0cd7ff9e0",
   "metadata": {
    "collapsed": false,
    "ExecuteTime": {
     "end_time": "2024-05-20T08:05:23.832189Z",
     "start_time": "2024-05-20T08:05:23.735477Z"
    }
   },
   "outputs": [
    {
     "name": "stdout",
     "output_type": "stream",
     "text": [
      "RMSE: 1.137347861082006\n",
      "R2 Score: 0.9071632227432751\n"
     ]
    }
   ],
   "source": [
    "from sklearn.linear_model import LinearRegression\n",
    "from sklearn.metrics import mean_squared_error, r2_score\n",
    "\n",
    "lr_model = LinearRegression()\n",
    "lr_model.fit(X_train, y_train)\n",
    "lr_model_y_pred = lr_model.predict(X_test)\n",
    "\n",
    "lr_model_rmse = mean_squared_error(y_test, lr_model_y_pred, squared=False)\n",
    "lr_model_r2_score = r2_score(y_test, lr_model_y_pred)\n",
    "\n",
    "print(f\"RMSE: {lr_model_rmse}\")\n",
    "print(f\"R2 Score: {lr_model_r2_score}\")"
   ]
  },
  {
   "cell_type": "code",
   "execution_count": 332,
   "id": "223e2f98b16320d2",
   "metadata": {
    "collapsed": false,
    "ExecuteTime": {
     "end_time": "2024-05-20T08:05:32.475759Z",
     "start_time": "2024-05-20T08:05:23.838196Z"
    }
   },
   "outputs": [
    {
     "name": "stdout",
     "output_type": "stream",
     "text": [
      "RMSE: 0.8288333458989702\n",
      "R2 Score: 0.9506976232186054\n"
     ]
    }
   ],
   "source": [
    "from sklearn.ensemble import RandomForestRegressor\n",
    "\n",
    "rf_model = RandomForestRegressor(n_estimators=100, random_state=42)\n",
    "rf_model.fit(X_train, y_train)\n",
    "rf_y_pred = rf_model.predict(X_test)\n",
    "\n",
    "rf_rmse = mean_squared_error(y_test, rf_y_pred, squared=False)\n",
    "rf_r2_score = r2_score(y_test, rf_y_pred)\n",
    "\n",
    "print(f\"RMSE: {rf_rmse}\")\n",
    "print(f\"R2 Score: {rf_r2_score}\")"
   ]
  },
  {
   "cell_type": "code",
   "execution_count": 333,
   "id": "4170f4d631dce581",
   "metadata": {
    "collapsed": false,
    "ExecuteTime": {
     "end_time": "2024-05-20T08:05:39.609238Z",
     "start_time": "2024-05-20T08:05:32.465128Z"
    }
   },
   "outputs": [
    {
     "name": "stdout",
     "output_type": "stream",
     "text": [
      "RMSE: 0.8288333458989702\n",
      "R2 Score: 0.999253506489169\n"
     ]
    }
   ],
   "source": [
    "from sklearn.ensemble import GradientBoostingRegressor\n",
    "\n",
    "gb_model = GradientBoostingRegressor(n_estimators=100, learning_rate=0.1, random_state=42)\n",
    "gb_model.fit(X_train, y_train)\n",
    "gb_y_pred = gb_model.predict(X_test)\n",
    "\n",
    "gb_rmse = mean_squared_error(y_test, rf_y_pred, squared=False)\n",
    "gb_r2_score = r2_score(y_test, gb_y_pred)\n",
    "\n",
    "print(f\"RMSE: {gb_rmse}\")\n",
    "print(f\"R2 Score: {gb_r2_score}\")"
   ]
  },
  {
   "cell_type": "code",
   "outputs": [
    {
     "ename": "ValueError",
     "evalue": "Experimental support for categorical data is not implemented for current tree method yet.",
     "output_type": "error",
     "traceback": [
      "\u001B[0;31m---------------------------------------------------------------------------\u001B[0m",
      "\u001B[0;31mValueError\u001B[0m                                Traceback (most recent call last)",
      "Cell \u001B[0;32mIn[334], line 4\u001B[0m\n\u001B[1;32m      1\u001B[0m \u001B[38;5;28;01mfrom\u001B[39;00m \u001B[38;5;21;01mxgboost\u001B[39;00m \u001B[38;5;28;01mimport\u001B[39;00m XGBRegressor\n\u001B[1;32m      3\u001B[0m xgb_model \u001B[38;5;241m=\u001B[39m XGBRegressor(n_estimators\u001B[38;5;241m=\u001B[39m\u001B[38;5;241m100\u001B[39m, learning_rate\u001B[38;5;241m=\u001B[39m\u001B[38;5;241m0.1\u001B[39m, random_state\u001B[38;5;241m=\u001B[39m\u001B[38;5;241m42\u001B[39m, enable_categorical\u001B[38;5;241m=\u001B[39m\u001B[38;5;28;01mTrue\u001B[39;00m)\n\u001B[0;32m----> 4\u001B[0m xgb_model\u001B[38;5;241m.\u001B[39mfit(X_train, y_train)\n\u001B[1;32m      6\u001B[0m xgb_y_pred \u001B[38;5;241m=\u001B[39m xgb_model\u001B[38;5;241m.\u001B[39mpredict(X_test)\n\u001B[1;32m      8\u001B[0m xgb_rmse \u001B[38;5;241m=\u001B[39m mean_squared_error(y_test, xgb_y_pred, squared\u001B[38;5;241m=\u001B[39m\u001B[38;5;28;01mFalse\u001B[39;00m)\n",
      "File \u001B[0;32m~/anaconda3/lib/python3.11/site-packages/xgboost/core.py:620\u001B[0m, in \u001B[0;36mrequire_keyword_args.<locals>.throw_if.<locals>.inner_f\u001B[0;34m(*args, **kwargs)\u001B[0m\n\u001B[1;32m    618\u001B[0m \u001B[38;5;28;01mfor\u001B[39;00m k, arg \u001B[38;5;129;01min\u001B[39;00m \u001B[38;5;28mzip\u001B[39m(sig\u001B[38;5;241m.\u001B[39mparameters, args):\n\u001B[1;32m    619\u001B[0m     kwargs[k] \u001B[38;5;241m=\u001B[39m arg\n\u001B[0;32m--> 620\u001B[0m \u001B[38;5;28;01mreturn\u001B[39;00m func(\u001B[38;5;241m*\u001B[39m\u001B[38;5;241m*\u001B[39mkwargs)\n",
      "File \u001B[0;32m~/anaconda3/lib/python3.11/site-packages/xgboost/sklearn.py:1022\u001B[0m, in \u001B[0;36mXGBModel.fit\u001B[0;34m(self, X, y, sample_weight, base_margin, eval_set, eval_metric, early_stopping_rounds, verbose, xgb_model, sample_weight_eval_set, base_margin_eval_set, feature_weights, callbacks)\u001B[0m\n\u001B[1;32m   1013\u001B[0m \u001B[38;5;28;01melse\u001B[39;00m:\n\u001B[1;32m   1014\u001B[0m     obj \u001B[38;5;241m=\u001B[39m \u001B[38;5;28;01mNone\u001B[39;00m\n\u001B[1;32m   1016\u001B[0m (\n\u001B[1;32m   1017\u001B[0m     model,\n\u001B[1;32m   1018\u001B[0m     metric,\n\u001B[1;32m   1019\u001B[0m     params,\n\u001B[1;32m   1020\u001B[0m     early_stopping_rounds,\n\u001B[1;32m   1021\u001B[0m     callbacks,\n\u001B[0;32m-> 1022\u001B[0m ) \u001B[38;5;241m=\u001B[39m \u001B[38;5;28mself\u001B[39m\u001B[38;5;241m.\u001B[39m_configure_fit(\n\u001B[1;32m   1023\u001B[0m     xgb_model, eval_metric, params, early_stopping_rounds, callbacks\n\u001B[1;32m   1024\u001B[0m )\n\u001B[1;32m   1025\u001B[0m \u001B[38;5;28mself\u001B[39m\u001B[38;5;241m.\u001B[39m_Booster \u001B[38;5;241m=\u001B[39m train(\n\u001B[1;32m   1026\u001B[0m     params,\n\u001B[1;32m   1027\u001B[0m     train_dmatrix,\n\u001B[0;32m   (...)\u001B[0m\n\u001B[1;32m   1036\u001B[0m     callbacks\u001B[38;5;241m=\u001B[39mcallbacks,\n\u001B[1;32m   1037\u001B[0m )\n\u001B[1;32m   1039\u001B[0m \u001B[38;5;28mself\u001B[39m\u001B[38;5;241m.\u001B[39m_set_evaluation_result(evals_result)\n",
      "File \u001B[0;32m~/anaconda3/lib/python3.11/site-packages/xgboost/sklearn.py:892\u001B[0m, in \u001B[0;36mXGBModel._configure_fit\u001B[0;34m(self, booster, eval_metric, params, early_stopping_rounds, callbacks)\u001B[0m\n\u001B[1;32m    890\u001B[0m cat_support \u001B[38;5;241m=\u001B[39m {\u001B[38;5;124m\"\u001B[39m\u001B[38;5;124mgpu_hist\u001B[39m\u001B[38;5;124m\"\u001B[39m, \u001B[38;5;124m\"\u001B[39m\u001B[38;5;124mapprox\u001B[39m\u001B[38;5;124m\"\u001B[39m, \u001B[38;5;124m\"\u001B[39m\u001B[38;5;124mhist\u001B[39m\u001B[38;5;124m\"\u001B[39m}\n\u001B[1;32m    891\u001B[0m \u001B[38;5;28;01mif\u001B[39;00m \u001B[38;5;28mself\u001B[39m\u001B[38;5;241m.\u001B[39menable_categorical \u001B[38;5;129;01mand\u001B[39;00m tree_method \u001B[38;5;129;01mnot\u001B[39;00m \u001B[38;5;129;01min\u001B[39;00m cat_support:\n\u001B[0;32m--> 892\u001B[0m     \u001B[38;5;28;01mraise\u001B[39;00m \u001B[38;5;167;01mValueError\u001B[39;00m(\n\u001B[1;32m    893\u001B[0m         \u001B[38;5;124m\"\u001B[39m\u001B[38;5;124mExperimental support for categorical data is not implemented for\u001B[39m\u001B[38;5;124m\"\u001B[39m\n\u001B[1;32m    894\u001B[0m         \u001B[38;5;124m\"\u001B[39m\u001B[38;5;124m current tree method yet.\u001B[39m\u001B[38;5;124m\"\u001B[39m\n\u001B[1;32m    895\u001B[0m     )\n\u001B[1;32m    897\u001B[0m \u001B[38;5;28;01mreturn\u001B[39;00m model, metric, params, early_stopping_rounds, callbacks\n",
      "\u001B[0;31mValueError\u001B[0m: Experimental support for categorical data is not implemented for current tree method yet."
     ]
    }
   ],
   "source": [
    "from xgboost import XGBRegressor\n",
    "\n",
    "xgb_model = XGBRegressor(n_estimators=100, learning_rate=0.1, random_state=42, enable_categorical=True)\n",
    "xgb_model.fit(X_train, y_train)\n",
    "\n",
    "xgb_y_pred = xgb_model.predict(X_test)\n",
    "\n",
    "xgb_rmse = mean_squared_error(y_test, xgb_y_pred, squared=False)\n",
    "xgb_r2_score = r2_score(y_test, xgb_y_pred)\n",
    "\n",
    "print(f\"RMSE: {xgb_rmse}\")\n",
    "print(f\"R2 Score: {xgb_r2_score}\")"
   ],
   "metadata": {
    "collapsed": false,
    "ExecuteTime": {
     "end_time": "2024-05-20T08:05:39.730914Z",
     "start_time": "2024-05-20T08:05:39.607387Z"
    }
   },
   "id": "953dc70e859b33e6",
   "execution_count": 334
  },
  {
   "cell_type": "code",
   "outputs": [
    {
     "data": {
      "text/plain": "               Model      RMSE  R2 Score\n0  Linear Regression  1.137348  0.907163\n1      Random Forest  0.828833  0.950698\n2  Gradient Boosting  0.828833  0.999254",
      "text/html": "<div>\n<style scoped>\n    .dataframe tbody tr th:only-of-type {\n        vertical-align: middle;\n    }\n\n    .dataframe tbody tr th {\n        vertical-align: top;\n    }\n\n    .dataframe thead th {\n        text-align: right;\n    }\n</style>\n<table border=\"1\" class=\"dataframe\">\n  <thead>\n    <tr style=\"text-align: right;\">\n      <th></th>\n      <th>Model</th>\n      <th>RMSE</th>\n      <th>R2 Score</th>\n    </tr>\n  </thead>\n  <tbody>\n    <tr>\n      <th>0</th>\n      <td>Linear Regression</td>\n      <td>1.137348</td>\n      <td>0.907163</td>\n    </tr>\n    <tr>\n      <th>1</th>\n      <td>Random Forest</td>\n      <td>0.828833</td>\n      <td>0.950698</td>\n    </tr>\n    <tr>\n      <th>2</th>\n      <td>Gradient Boosting</td>\n      <td>0.828833</td>\n      <td>0.999254</td>\n    </tr>\n  </tbody>\n</table>\n</div>"
     },
     "execution_count": 338,
     "metadata": {},
     "output_type": "execute_result"
    }
   ],
   "source": [
    "# create table to compare models\n",
    "model_comparison = pd.DataFrame({\n",
    "    'Model': ['Linear Regression', 'Random Forest', 'Gradient Boosting'],\n",
    "    'RMSE': [lr_model_rmse, rf_rmse, gb_rmse],\n",
    "    'R2 Score': [lr_model_r2_score, rf_r2_score, gb_r2_score ]\n",
    "})\n",
    "\n",
    "model_comparison"
   ],
   "metadata": {
    "collapsed": false,
    "ExecuteTime": {
     "end_time": "2024-05-20T08:06:20.897911Z",
     "start_time": "2024-05-20T08:06:20.892073Z"
    }
   },
   "id": "27ab723b2f996d6c",
   "execution_count": 338
  },
  {
   "cell_type": "markdown",
   "source": [
    "## Prophet Model"
   ],
   "metadata": {
    "collapsed": false
   },
   "id": "dd0b0b1dc44fbea"
  },
  {
   "cell_type": "code",
   "outputs": [
    {
     "data": {
      "text/plain": "           MainDistID   DistID    HcoID HcoType  Status  IsReturn  IsMrsOrder  \\\nDate                                                                            \n2020-01-04    2879249  2909384  2860645       P  Active     False        True   \n2021-01-15    2879254  2878817  2880070       P  Active     False       False   \n2021-06-15    2879249  2878784  2860208       P  Active     False        True   \n2021-12-18    2879249  2878812  2912845       P  Active     False       False   \n2019-12-17    2879249  2878784  2860208       P  Active     False        True   \n\n            PaidQty  FGQty  TotalQuantity  \nDate                                       \n2020-01-04      300      0            300  \n2021-01-15      250      0            250  \n2021-06-15      200      0            200  \n2021-12-18      200      0            200  \n2019-12-17      200      0            200  ",
      "text/html": "<div>\n<style scoped>\n    .dataframe tbody tr th:only-of-type {\n        vertical-align: middle;\n    }\n\n    .dataframe tbody tr th {\n        vertical-align: top;\n    }\n\n    .dataframe thead th {\n        text-align: right;\n    }\n</style>\n<table border=\"1\" class=\"dataframe\">\n  <thead>\n    <tr style=\"text-align: right;\">\n      <th></th>\n      <th>MainDistID</th>\n      <th>DistID</th>\n      <th>HcoID</th>\n      <th>HcoType</th>\n      <th>Status</th>\n      <th>IsReturn</th>\n      <th>IsMrsOrder</th>\n      <th>PaidQty</th>\n      <th>FGQty</th>\n      <th>TotalQuantity</th>\n    </tr>\n    <tr>\n      <th>Date</th>\n      <th></th>\n      <th></th>\n      <th></th>\n      <th></th>\n      <th></th>\n      <th></th>\n      <th></th>\n      <th></th>\n      <th></th>\n      <th></th>\n    </tr>\n  </thead>\n  <tbody>\n    <tr>\n      <th>2020-01-04</th>\n      <td>2879249</td>\n      <td>2909384</td>\n      <td>2860645</td>\n      <td>P</td>\n      <td>Active</td>\n      <td>False</td>\n      <td>True</td>\n      <td>300</td>\n      <td>0</td>\n      <td>300</td>\n    </tr>\n    <tr>\n      <th>2021-01-15</th>\n      <td>2879254</td>\n      <td>2878817</td>\n      <td>2880070</td>\n      <td>P</td>\n      <td>Active</td>\n      <td>False</td>\n      <td>False</td>\n      <td>250</td>\n      <td>0</td>\n      <td>250</td>\n    </tr>\n    <tr>\n      <th>2021-06-15</th>\n      <td>2879249</td>\n      <td>2878784</td>\n      <td>2860208</td>\n      <td>P</td>\n      <td>Active</td>\n      <td>False</td>\n      <td>True</td>\n      <td>200</td>\n      <td>0</td>\n      <td>200</td>\n    </tr>\n    <tr>\n      <th>2021-12-18</th>\n      <td>2879249</td>\n      <td>2878812</td>\n      <td>2912845</td>\n      <td>P</td>\n      <td>Active</td>\n      <td>False</td>\n      <td>False</td>\n      <td>200</td>\n      <td>0</td>\n      <td>200</td>\n    </tr>\n    <tr>\n      <th>2019-12-17</th>\n      <td>2879249</td>\n      <td>2878784</td>\n      <td>2860208</td>\n      <td>P</td>\n      <td>Active</td>\n      <td>False</td>\n      <td>True</td>\n      <td>200</td>\n      <td>0</td>\n      <td>200</td>\n    </tr>\n  </tbody>\n</table>\n</div>"
     },
     "execution_count": 367,
     "metadata": {},
     "output_type": "execute_result"
    }
   ],
   "source": [
    "selected_skus_df.sort_values(by='TotalQuantity', ascending=False).head()"
   ],
   "metadata": {
    "collapsed": false,
    "ExecuteTime": {
     "end_time": "2024-05-20T08:16:32.335724Z",
     "start_time": "2024-05-20T08:16:32.155521Z"
    }
   },
   "id": "3792e18f7c190794",
   "execution_count": 367
  },
  {
   "cell_type": "code",
   "execution_count": 368,
   "id": "49583af1f4a2d46a",
   "metadata": {
    "collapsed": false,
    "tags": [],
    "ExecuteTime": {
     "end_time": "2024-05-20T08:16:32.487066Z",
     "start_time": "2024-05-20T08:16:32.330388Z"
    }
   },
   "outputs": [
    {
     "name": "stdout",
     "output_type": "stream",
     "text": [
      "<class 'pandas.core.frame.DataFrame'>\n",
      "Index: 206690 entries, 126283 to 78860\n",
      "Data columns (total 14 columns):\n",
      " #   Column           Non-Null Count   Dtype         \n",
      "---  ------           --------------   -----         \n",
      " 0   ds               206690 non-null  datetime64[ns]\n",
      " 1   MainDistID       206690 non-null  object        \n",
      " 2   DistID           206690 non-null  object        \n",
      " 3   HcoID            206690 non-null  object        \n",
      " 4   IsReturn         206690 non-null  int64         \n",
      " 5   IsMrsOrder       206690 non-null  int64         \n",
      " 6   PaidQty          206690 non-null  int64         \n",
      " 7   FGQty            206690 non-null  int64         \n",
      " 8   y                206690 non-null  int64         \n",
      " 9   HcoType_H        206690 non-null  bool          \n",
      " 10  HcoType_P        206690 non-null  bool          \n",
      " 11  HcoType_W        206690 non-null  bool          \n",
      " 12  Status_Active    206690 non-null  bool          \n",
      " 13  Status_Inactive  206690 non-null  bool          \n",
      "dtypes: bool(5), datetime64[ns](1), int64(5), object(3)\n",
      "memory usage: 16.8+ MB\n"
     ]
    }
   ],
   "source": [
    "from prophet import Prophet\n",
    "import matplotlib.pyplot as plt\n",
    "from sklearn.metrics import mean_absolute_error\n",
    "\n",
    "# Step 1: Prepare the data\n",
    "prophet_df = selected_skus_df.copy()\n",
    "prophet_df = prophet_df.reset_index()\n",
    "prophet_df = prophet_df.rename(columns={'Date': 'ds', 'TotalQuantity': 'y'})\n",
    "\n",
    "# Ensure the data is sorted by date\n",
    "prophet_df = prophet_df.sort_values(by='ds')\n",
    "\n",
    "# Step 2: Convert categorical features to dummy variables\n",
    "# This will convert 'HcoType' and 'Status' to multiple binary columns\n",
    "prophet_df = pd.get_dummies(prophet_df, columns=['HcoType', 'Status'])\n",
    "\n",
    "# Step 3: Convert boolean columns to integers\n",
    "prophet_df['IsReturn'] = prophet_df['IsReturn'].astype(int)\n",
    "prophet_df['IsMrsOrder'] = prophet_df['IsMrsOrder'].astype(int)\n",
    "\n",
    "prophet_df.info()"
   ]
  },
  {
   "cell_type": "code",
   "outputs": [
    {
     "data": {
      "text/plain": "               ds MainDistID   DistID    HcoID  IsReturn  IsMrsOrder  PaidQty  \\\n120506 2020-01-04    2879249  2909384  2860645         0           1      300   \n114058 2021-01-15    2879254  2878817  2880070         0           0      250   \n26203  2019-12-17    2879249  2878784  2860208         0           1      200   \n26227  2021-06-15    2879249  2878784  2860208         0           1      200   \n14033  2021-12-18    2879249  2878812  2912845         0           0      200   \n\n        FGQty    y  HcoType_H  HcoType_P  HcoType_W  Status_Active  \\\n120506      0  300      False       True      False           True   \n114058      0  250      False       True      False           True   \n26203       0  200      False       True      False           True   \n26227       0  200      False       True      False           True   \n14033       0  200      False       True      False           True   \n\n        Status_Inactive  \n120506            False  \n114058            False  \n26203             False  \n26227             False  \n14033             False  ",
      "text/html": "<div>\n<style scoped>\n    .dataframe tbody tr th:only-of-type {\n        vertical-align: middle;\n    }\n\n    .dataframe tbody tr th {\n        vertical-align: top;\n    }\n\n    .dataframe thead th {\n        text-align: right;\n    }\n</style>\n<table border=\"1\" class=\"dataframe\">\n  <thead>\n    <tr style=\"text-align: right;\">\n      <th></th>\n      <th>ds</th>\n      <th>MainDistID</th>\n      <th>DistID</th>\n      <th>HcoID</th>\n      <th>IsReturn</th>\n      <th>IsMrsOrder</th>\n      <th>PaidQty</th>\n      <th>FGQty</th>\n      <th>y</th>\n      <th>HcoType_H</th>\n      <th>HcoType_P</th>\n      <th>HcoType_W</th>\n      <th>Status_Active</th>\n      <th>Status_Inactive</th>\n    </tr>\n  </thead>\n  <tbody>\n    <tr>\n      <th>120506</th>\n      <td>2020-01-04</td>\n      <td>2879249</td>\n      <td>2909384</td>\n      <td>2860645</td>\n      <td>0</td>\n      <td>1</td>\n      <td>300</td>\n      <td>0</td>\n      <td>300</td>\n      <td>False</td>\n      <td>True</td>\n      <td>False</td>\n      <td>True</td>\n      <td>False</td>\n    </tr>\n    <tr>\n      <th>114058</th>\n      <td>2021-01-15</td>\n      <td>2879254</td>\n      <td>2878817</td>\n      <td>2880070</td>\n      <td>0</td>\n      <td>0</td>\n      <td>250</td>\n      <td>0</td>\n      <td>250</td>\n      <td>False</td>\n      <td>True</td>\n      <td>False</td>\n      <td>True</td>\n      <td>False</td>\n    </tr>\n    <tr>\n      <th>26203</th>\n      <td>2019-12-17</td>\n      <td>2879249</td>\n      <td>2878784</td>\n      <td>2860208</td>\n      <td>0</td>\n      <td>1</td>\n      <td>200</td>\n      <td>0</td>\n      <td>200</td>\n      <td>False</td>\n      <td>True</td>\n      <td>False</td>\n      <td>True</td>\n      <td>False</td>\n    </tr>\n    <tr>\n      <th>26227</th>\n      <td>2021-06-15</td>\n      <td>2879249</td>\n      <td>2878784</td>\n      <td>2860208</td>\n      <td>0</td>\n      <td>1</td>\n      <td>200</td>\n      <td>0</td>\n      <td>200</td>\n      <td>False</td>\n      <td>True</td>\n      <td>False</td>\n      <td>True</td>\n      <td>False</td>\n    </tr>\n    <tr>\n      <th>14033</th>\n      <td>2021-12-18</td>\n      <td>2879249</td>\n      <td>2878812</td>\n      <td>2912845</td>\n      <td>0</td>\n      <td>0</td>\n      <td>200</td>\n      <td>0</td>\n      <td>200</td>\n      <td>False</td>\n      <td>True</td>\n      <td>False</td>\n      <td>True</td>\n      <td>False</td>\n    </tr>\n  </tbody>\n</table>\n</div>"
     },
     "execution_count": 369,
     "metadata": {},
     "output_type": "execute_result"
    }
   ],
   "source": [
    "prophet_df.sort_values(by='y', ascending=False).head()"
   ],
   "metadata": {
    "collapsed": false,
    "ExecuteTime": {
     "end_time": "2024-05-20T08:16:32.583062Z",
     "start_time": "2024-05-20T08:16:32.482052Z"
    }
   },
   "id": "7b96ef982b0227b",
   "execution_count": 369
  },
  {
   "cell_type": "code",
   "outputs": [
    {
     "name": "stdout",
     "output_type": "stream",
     "text": [
      "Training set size: 137655\n",
      "Test set size: 69035\n"
     ]
    }
   ],
   "source": [
    "# Step 2: Split the data into training and testing sets\n",
    "train_size = int(len(prophet_df) * 0.666)\n",
    "train_df = prophet_df.iloc[:train_size]\n",
    "test_df = prophet_df.iloc[train_size:]\n",
    "\n",
    "print(f\"Training set size: {len(train_df)}\")\n",
    "print(f\"Test set size: {len(test_df)}\")"
   ],
   "metadata": {
    "collapsed": false,
    "ExecuteTime": {
     "end_time": "2024-05-20T08:16:32.583877Z",
     "start_time": "2024-05-20T08:16:32.514341Z"
    }
   },
   "id": "db4514ad8c4c26f4",
   "execution_count": 370
  },
  {
   "cell_type": "code",
   "outputs": [
    {
     "data": {
      "text/plain": "['MainDistID',\n 'DistID',\n 'HcoID',\n 'IsReturn',\n 'IsMrsOrder',\n 'PaidQty',\n 'FGQty',\n 'HcoType_H',\n 'HcoType_P',\n 'HcoType_W',\n 'Status_Active',\n 'Status_Inactive']"
     },
     "execution_count": 371,
     "metadata": {},
     "output_type": "execute_result"
    }
   ],
   "source": [
    "# List of all additional features (excluding 'ds' and 'y')\n",
    "additional_features = [col for col in prophet_df.columns if col not in ['ds', 'y']]\n",
    "\n",
    "additional_features"
   ],
   "metadata": {
    "collapsed": false,
    "ExecuteTime": {
     "end_time": "2024-05-20T08:16:32.584490Z",
     "start_time": "2024-05-20T08:16:32.517346Z"
    }
   },
   "id": "41e020403cdce69a",
   "execution_count": 371
  },
  {
   "cell_type": "code",
   "outputs": [
    {
     "name": "stderr",
     "output_type": "stream",
     "text": [
      "11:16:38 - cmdstanpy - INFO - Chain [1] start processing\n",
      "11:16:46 - cmdstanpy - INFO - Chain [1] done processing\n"
     ]
    }
   ],
   "source": [
    "model = Prophet()\n",
    "\n",
    "# Add regressors to the model\n",
    "for feature in additional_features:\n",
    "    model.add_regressor(feature)\n",
    "\n",
    "# Step 6: Fit the model on training data\n",
    "model.fit(train_df[['ds', 'y'] + additional_features])\n",
    "\n",
    "# Step 7: Predict on the test data dates\n",
    "forecast_test = model.predict(test_df[['ds'] + additional_features])\n",
    "\n",
    "# Step 8: Evaluate the model\n",
    "# Merge actual test values with the forecasted values\n",
    "evaluation_df = test_df[['ds', 'y']].merge(forecast_test[['ds', 'yhat']], on='ds', how='left')"
   ],
   "metadata": {
    "collapsed": false,
    "is_executing": true,
    "ExecuteTime": {
     "start_time": "2024-05-20T08:16:32.520108Z"
    }
   },
   "id": "5bca13a51fbb16cc",
   "execution_count": null
  },
  {
   "cell_type": "code",
   "outputs": [],
   "source": [
    "print(evaluation_df[['ds', 'y', 'yhat']].head())"
   ],
   "metadata": {
    "collapsed": false,
    "is_executing": true
   },
   "id": "8efa91e72cc4fa9",
   "execution_count": null
  },
  {
   "cell_type": "code",
   "outputs": [],
   "source": [
    "plt.figure(figsize=(10, 6))\n",
    "plt.plot(train_df['ds'], train_df['y'], label='Training Data')\n",
    "plt.plot(test_df['ds'], test_df['y'], label='Actual Data')\n",
    "plt.plot(test_df['ds'], forecast_test['yhat'], label='Predicted Data')\n",
    "\n",
    "plt.xlabel('Date')\n",
    "plt.ylabel('Total Quantity')\n",
    "plt.title('Actual vs Predicted Data')\n",
    "plt.legend()\n",
    "plt.show()"
   ],
   "metadata": {
    "collapsed": false,
    "is_executing": true
   },
   "id": "201bb20f6761a2f7",
   "execution_count": null
  },
  {
   "cell_type": "code",
   "outputs": [],
   "source": [
    "mae = mean_absolute_error(evaluation_df['y'], evaluation_df['yhat'])\n",
    "print(f'Mean Absolute Error: {mae}')"
   ],
   "metadata": {
    "collapsed": false,
    "is_executing": true
   },
   "id": "cece33547105746b",
   "execution_count": null
  },
  {
   "cell_type": "code",
   "outputs": [],
   "source": [],
   "metadata": {
    "collapsed": false,
    "is_executing": true
   },
   "id": "d388851e97b5509b"
  }
 ],
 "metadata": {
  "kernelspec": {
   "display_name": "Python 3 (ipykernel)",
   "language": "python",
   "name": "python3"
  },
  "language_info": {
   "codemirror_mode": {
    "name": "ipython",
    "version": 3
   },
   "file_extension": ".py",
   "mimetype": "text/x-python",
   "name": "python",
   "nbconvert_exporter": "python",
   "pygments_lexer": "ipython3",
   "version": "3.11.5"
  },
  "toc": {
   "base_numbering": 1,
   "nav_menu": {},
   "number_sections": true,
   "sideBar": true,
   "skip_h1_title": false,
   "title_cell": "Table of Contents",
   "title_sidebar": "Contents",
   "toc_cell": false,
   "toc_position": {},
   "toc_section_display": true,
   "toc_window_display": false
  }
 },
 "nbformat": 4,
 "nbformat_minor": 5
}
